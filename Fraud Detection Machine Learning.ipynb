{
 "cells": [
  {
   "cell_type": "code",
   "execution_count": 79,
   "metadata": {},
   "outputs": [],
   "source": [
    "from sklearn.model_selection import train_test_split, RandomizedSearchCV, GridSearchCV\n",
    "from sklearn.tree import DecisionTreeClassifier\n",
    "from sklearn.ensemble import RandomForestRegressor\n",
    "import pandas as pd \n",
    "import numpy as np \n",
    "import seaborn as sns\n",
    "import matplotlib.pyplot as plt\n",
    "from sklearn.linear_model import LogisticRegression\n",
    "from sklearn.neighbors import KNeighborsClassifier\n",
    "from sklearn.svm import SVC \n",
    "import sidetable as stb\n",
    "from sklearn.metrics import accuracy_score, recall_score, precision_score, f1_score, classification_report, confusion_matrix\n",
    "\n",
    "import warnings \n",
    "warnings.filterwarnings('ignore')"
   ]
  },
  {
   "cell_type": "code",
   "execution_count": 188,
   "metadata": {},
   "outputs": [
    {
     "data": {
      "text/html": [
       "<div>\n",
       "<style scoped>\n",
       "    .dataframe tbody tr th:only-of-type {\n",
       "        vertical-align: middle;\n",
       "    }\n",
       "\n",
       "    .dataframe tbody tr th {\n",
       "        vertical-align: top;\n",
       "    }\n",
       "\n",
       "    .dataframe thead th {\n",
       "        text-align: right;\n",
       "    }\n",
       "</style>\n",
       "<table border=\"1\" class=\"dataframe\">\n",
       "  <thead>\n",
       "    <tr style=\"text-align: right;\">\n",
       "      <th></th>\n",
       "      <th>step</th>\n",
       "      <th>type</th>\n",
       "      <th>amount</th>\n",
       "      <th>nameorig</th>\n",
       "      <th>oldbalanceorg</th>\n",
       "      <th>newbalanceorig</th>\n",
       "      <th>namedest</th>\n",
       "      <th>oldbalancedest</th>\n",
       "      <th>newbalancedest</th>\n",
       "      <th>isfraud</th>\n",
       "      <th>isflaggedfraud</th>\n",
       "    </tr>\n",
       "  </thead>\n",
       "  <tbody>\n",
       "    <tr>\n",
       "      <th>0</th>\n",
       "      <td>14</td>\n",
       "      <td>CASH_OUT</td>\n",
       "      <td>43433.16</td>\n",
       "      <td>C730593679</td>\n",
       "      <td>0.00</td>\n",
       "      <td>0.00</td>\n",
       "      <td>C1512527474</td>\n",
       "      <td>956413.17</td>\n",
       "      <td>999846.33</td>\n",
       "      <td>0</td>\n",
       "      <td>0</td>\n",
       "    </tr>\n",
       "    <tr>\n",
       "      <th>1</th>\n",
       "      <td>19</td>\n",
       "      <td>CASH_IN</td>\n",
       "      <td>303807.96</td>\n",
       "      <td>C982851722</td>\n",
       "      <td>1155077.07</td>\n",
       "      <td>1458885.04</td>\n",
       "      <td>C10573518</td>\n",
       "      <td>1662603.02</td>\n",
       "      <td>1358795.06</td>\n",
       "      <td>0</td>\n",
       "      <td>0</td>\n",
       "    </tr>\n",
       "    <tr>\n",
       "      <th>2</th>\n",
       "      <td>15</td>\n",
       "      <td>CASH_IN</td>\n",
       "      <td>353156.81</td>\n",
       "      <td>C965271173</td>\n",
       "      <td>32371.00</td>\n",
       "      <td>385527.81</td>\n",
       "      <td>C2006450982</td>\n",
       "      <td>0.00</td>\n",
       "      <td>0.00</td>\n",
       "      <td>0</td>\n",
       "      <td>0</td>\n",
       "    </tr>\n",
       "    <tr>\n",
       "      <th>3</th>\n",
       "      <td>11</td>\n",
       "      <td>PAYMENT</td>\n",
       "      <td>7940.63</td>\n",
       "      <td>C1817273820</td>\n",
       "      <td>1840.17</td>\n",
       "      <td>0.00</td>\n",
       "      <td>M103714876</td>\n",
       "      <td>0.00</td>\n",
       "      <td>0.00</td>\n",
       "      <td>0</td>\n",
       "      <td>0</td>\n",
       "    </tr>\n",
       "    <tr>\n",
       "      <th>4</th>\n",
       "      <td>10</td>\n",
       "      <td>PAYMENT</td>\n",
       "      <td>22488.28</td>\n",
       "      <td>C1565352337</td>\n",
       "      <td>13384.00</td>\n",
       "      <td>0.00</td>\n",
       "      <td>M626228905</td>\n",
       "      <td>0.00</td>\n",
       "      <td>0.00</td>\n",
       "      <td>0</td>\n",
       "      <td>0</td>\n",
       "    </tr>\n",
       "  </tbody>\n",
       "</table>\n",
       "</div>"
      ],
      "text/plain": [
       "   step      type     amount     nameorig  oldbalanceorg  newbalanceorig  \\\n",
       "0    14  CASH_OUT   43433.16   C730593679           0.00            0.00   \n",
       "1    19   CASH_IN  303807.96   C982851722     1155077.07      1458885.04   \n",
       "2    15   CASH_IN  353156.81   C965271173       32371.00       385527.81   \n",
       "3    11   PAYMENT    7940.63  C1817273820        1840.17            0.00   \n",
       "4    10   PAYMENT   22488.28  C1565352337       13384.00            0.00   \n",
       "\n",
       "      namedest  oldbalancedest  newbalancedest  isfraud  isflaggedfraud  \n",
       "0  C1512527474       956413.17       999846.33        0               0  \n",
       "1    C10573518      1662603.02      1358795.06        0               0  \n",
       "2  C2006450982            0.00            0.00        0               0  \n",
       "3   M103714876            0.00            0.00        0               0  \n",
       "4   M626228905            0.00            0.00        0               0  "
      ]
     },
     "execution_count": 188,
     "metadata": {},
     "output_type": "execute_result"
    }
   ],
   "source": [
    "df = pd.read_csv('final_sampling2.csv')\n",
    "df.head()"
   ]
  },
  {
   "cell_type": "code",
   "execution_count": 189,
   "metadata": {},
   "outputs": [
    {
     "data": {
      "text/html": [
       "<div>\n",
       "<style scoped>\n",
       "    .dataframe tbody tr th:only-of-type {\n",
       "        vertical-align: middle;\n",
       "    }\n",
       "\n",
       "    .dataframe tbody tr th {\n",
       "        vertical-align: top;\n",
       "    }\n",
       "\n",
       "    .dataframe thead th {\n",
       "        text-align: right;\n",
       "    }\n",
       "</style>\n",
       "<table border=\"1\" class=\"dataframe\">\n",
       "  <thead>\n",
       "    <tr style=\"text-align: right;\">\n",
       "      <th></th>\n",
       "      <th>isfraud</th>\n",
       "      <th>count</th>\n",
       "      <th>percent</th>\n",
       "    </tr>\n",
       "  </thead>\n",
       "  <tbody>\n",
       "    <tr>\n",
       "      <th>0</th>\n",
       "      <td>0</td>\n",
       "      <td>635441</td>\n",
       "      <td>99.870965</td>\n",
       "    </tr>\n",
       "    <tr>\n",
       "      <th>1</th>\n",
       "      <td>1</td>\n",
       "      <td>821</td>\n",
       "      <td>0.129035</td>\n",
       "    </tr>\n",
       "  </tbody>\n",
       "</table>\n",
       "</div>"
      ],
      "text/plain": [
       "   isfraud   count    percent\n",
       "0        0  635441  99.870965\n",
       "1        1     821   0.129035"
      ]
     },
     "execution_count": 189,
     "metadata": {},
     "output_type": "execute_result"
    }
   ],
   "source": [
    "df.stb.freq(['isfraud'], cum_cols=False)\n",
    "\n",
    "#making sure that the ratio of sampled index and non sampled index stays the same \n"
   ]
  },
  {
   "cell_type": "markdown",
   "metadata": {},
   "source": [
    "### Encoding and feature engineering for Machine learning "
   ]
  },
  {
   "cell_type": "code",
   "execution_count": null,
   "metadata": {},
   "outputs": [],
   "source": []
  },
  {
   "cell_type": "code",
   "execution_count": null,
   "metadata": {},
   "outputs": [],
   "source": []
  },
  {
   "cell_type": "code",
   "execution_count": 190,
   "metadata": {},
   "outputs": [
    {
     "data": {
      "text/html": [
       "<div>\n",
       "<style scoped>\n",
       "    .dataframe tbody tr th:only-of-type {\n",
       "        vertical-align: middle;\n",
       "    }\n",
       "\n",
       "    .dataframe tbody tr th {\n",
       "        vertical-align: top;\n",
       "    }\n",
       "\n",
       "    .dataframe thead th {\n",
       "        text-align: right;\n",
       "    }\n",
       "</style>\n",
       "<table border=\"1\" class=\"dataframe\">\n",
       "  <thead>\n",
       "    <tr style=\"text-align: right;\">\n",
       "      <th></th>\n",
       "      <th>step</th>\n",
       "      <th>type</th>\n",
       "      <th>amount</th>\n",
       "      <th>nameorig</th>\n",
       "      <th>oldbalanceorg</th>\n",
       "      <th>newbalanceorig</th>\n",
       "      <th>namedest</th>\n",
       "      <th>oldbalancedest</th>\n",
       "      <th>newbalancedest</th>\n",
       "      <th>isfraud</th>\n",
       "      <th>isflaggedfraud</th>\n",
       "    </tr>\n",
       "  </thead>\n",
       "  <tbody>\n",
       "    <tr>\n",
       "      <th>0</th>\n",
       "      <td>14</td>\n",
       "      <td>CASH_OUT</td>\n",
       "      <td>43433.16</td>\n",
       "      <td>C</td>\n",
       "      <td>0.00</td>\n",
       "      <td>0.00</td>\n",
       "      <td>C1512527474</td>\n",
       "      <td>956413.17</td>\n",
       "      <td>999846.33</td>\n",
       "      <td>0</td>\n",
       "      <td>0</td>\n",
       "    </tr>\n",
       "    <tr>\n",
       "      <th>1</th>\n",
       "      <td>19</td>\n",
       "      <td>CASH_IN</td>\n",
       "      <td>303807.96</td>\n",
       "      <td>C</td>\n",
       "      <td>1155077.07</td>\n",
       "      <td>1458885.04</td>\n",
       "      <td>C10573518</td>\n",
       "      <td>1662603.02</td>\n",
       "      <td>1358795.06</td>\n",
       "      <td>0</td>\n",
       "      <td>0</td>\n",
       "    </tr>\n",
       "    <tr>\n",
       "      <th>2</th>\n",
       "      <td>15</td>\n",
       "      <td>CASH_IN</td>\n",
       "      <td>353156.81</td>\n",
       "      <td>C</td>\n",
       "      <td>32371.00</td>\n",
       "      <td>385527.81</td>\n",
       "      <td>C2006450982</td>\n",
       "      <td>0.00</td>\n",
       "      <td>0.00</td>\n",
       "      <td>0</td>\n",
       "      <td>0</td>\n",
       "    </tr>\n",
       "    <tr>\n",
       "      <th>3</th>\n",
       "      <td>11</td>\n",
       "      <td>PAYMENT</td>\n",
       "      <td>7940.63</td>\n",
       "      <td>C</td>\n",
       "      <td>1840.17</td>\n",
       "      <td>0.00</td>\n",
       "      <td>M103714876</td>\n",
       "      <td>0.00</td>\n",
       "      <td>0.00</td>\n",
       "      <td>0</td>\n",
       "      <td>0</td>\n",
       "    </tr>\n",
       "    <tr>\n",
       "      <th>4</th>\n",
       "      <td>10</td>\n",
       "      <td>PAYMENT</td>\n",
       "      <td>22488.28</td>\n",
       "      <td>C</td>\n",
       "      <td>13384.00</td>\n",
       "      <td>0.00</td>\n",
       "      <td>M626228905</td>\n",
       "      <td>0.00</td>\n",
       "      <td>0.00</td>\n",
       "      <td>0</td>\n",
       "      <td>0</td>\n",
       "    </tr>\n",
       "  </tbody>\n",
       "</table>\n",
       "</div>"
      ],
      "text/plain": [
       "   step      type     amount nameorig  oldbalanceorg  newbalanceorig  \\\n",
       "0    14  CASH_OUT   43433.16        C           0.00            0.00   \n",
       "1    19   CASH_IN  303807.96        C     1155077.07      1458885.04   \n",
       "2    15   CASH_IN  353156.81        C       32371.00       385527.81   \n",
       "3    11   PAYMENT    7940.63        C        1840.17            0.00   \n",
       "4    10   PAYMENT   22488.28        C       13384.00            0.00   \n",
       "\n",
       "      namedest  oldbalancedest  newbalancedest  isfraud  isflaggedfraud  \n",
       "0  C1512527474       956413.17       999846.33        0               0  \n",
       "1    C10573518      1662603.02      1358795.06        0               0  \n",
       "2  C2006450982            0.00            0.00        0               0  \n",
       "3   M103714876            0.00            0.00        0               0  \n",
       "4   M626228905            0.00            0.00        0               0  "
      ]
     },
     "execution_count": 190,
     "metadata": {},
     "output_type": "execute_result"
    }
   ],
   "source": [
    "# the first letter of nameorig and name dest is unique ID for customer and merchant so we want that first letter before encoding it\n",
    "\n",
    "df['nameorig'] = df['nameorig'].str[0]\n",
    "df.head()"
   ]
  },
  {
   "cell_type": "code",
   "execution_count": 191,
   "metadata": {},
   "outputs": [
    {
     "data": {
      "text/html": [
       "<div>\n",
       "<style scoped>\n",
       "    .dataframe tbody tr th:only-of-type {\n",
       "        vertical-align: middle;\n",
       "    }\n",
       "\n",
       "    .dataframe tbody tr th {\n",
       "        vertical-align: top;\n",
       "    }\n",
       "\n",
       "    .dataframe thead th {\n",
       "        text-align: right;\n",
       "    }\n",
       "</style>\n",
       "<table border=\"1\" class=\"dataframe\">\n",
       "  <thead>\n",
       "    <tr style=\"text-align: right;\">\n",
       "      <th></th>\n",
       "      <th>step</th>\n",
       "      <th>type</th>\n",
       "      <th>amount</th>\n",
       "      <th>nameorig</th>\n",
       "      <th>oldbalanceorg</th>\n",
       "      <th>newbalanceorig</th>\n",
       "      <th>namedest</th>\n",
       "      <th>oldbalancedest</th>\n",
       "      <th>newbalancedest</th>\n",
       "      <th>isfraud</th>\n",
       "      <th>isflaggedfraud</th>\n",
       "    </tr>\n",
       "  </thead>\n",
       "  <tbody>\n",
       "    <tr>\n",
       "      <th>0</th>\n",
       "      <td>14</td>\n",
       "      <td>CASH_OUT</td>\n",
       "      <td>43433.16</td>\n",
       "      <td>C</td>\n",
       "      <td>0.00</td>\n",
       "      <td>0.00</td>\n",
       "      <td>C</td>\n",
       "      <td>956413.17</td>\n",
       "      <td>999846.33</td>\n",
       "      <td>0</td>\n",
       "      <td>0</td>\n",
       "    </tr>\n",
       "    <tr>\n",
       "      <th>1</th>\n",
       "      <td>19</td>\n",
       "      <td>CASH_IN</td>\n",
       "      <td>303807.96</td>\n",
       "      <td>C</td>\n",
       "      <td>1155077.07</td>\n",
       "      <td>1458885.04</td>\n",
       "      <td>C</td>\n",
       "      <td>1662603.02</td>\n",
       "      <td>1358795.06</td>\n",
       "      <td>0</td>\n",
       "      <td>0</td>\n",
       "    </tr>\n",
       "    <tr>\n",
       "      <th>2</th>\n",
       "      <td>15</td>\n",
       "      <td>CASH_IN</td>\n",
       "      <td>353156.81</td>\n",
       "      <td>C</td>\n",
       "      <td>32371.00</td>\n",
       "      <td>385527.81</td>\n",
       "      <td>C</td>\n",
       "      <td>0.00</td>\n",
       "      <td>0.00</td>\n",
       "      <td>0</td>\n",
       "      <td>0</td>\n",
       "    </tr>\n",
       "    <tr>\n",
       "      <th>3</th>\n",
       "      <td>11</td>\n",
       "      <td>PAYMENT</td>\n",
       "      <td>7940.63</td>\n",
       "      <td>C</td>\n",
       "      <td>1840.17</td>\n",
       "      <td>0.00</td>\n",
       "      <td>M</td>\n",
       "      <td>0.00</td>\n",
       "      <td>0.00</td>\n",
       "      <td>0</td>\n",
       "      <td>0</td>\n",
       "    </tr>\n",
       "    <tr>\n",
       "      <th>4</th>\n",
       "      <td>10</td>\n",
       "      <td>PAYMENT</td>\n",
       "      <td>22488.28</td>\n",
       "      <td>C</td>\n",
       "      <td>13384.00</td>\n",
       "      <td>0.00</td>\n",
       "      <td>M</td>\n",
       "      <td>0.00</td>\n",
       "      <td>0.00</td>\n",
       "      <td>0</td>\n",
       "      <td>0</td>\n",
       "    </tr>\n",
       "  </tbody>\n",
       "</table>\n",
       "</div>"
      ],
      "text/plain": [
       "   step      type     amount nameorig  oldbalanceorg  newbalanceorig namedest  \\\n",
       "0    14  CASH_OUT   43433.16        C           0.00            0.00        C   \n",
       "1    19   CASH_IN  303807.96        C     1155077.07      1458885.04        C   \n",
       "2    15   CASH_IN  353156.81        C       32371.00       385527.81        C   \n",
       "3    11   PAYMENT    7940.63        C        1840.17            0.00        M   \n",
       "4    10   PAYMENT   22488.28        C       13384.00            0.00        M   \n",
       "\n",
       "   oldbalancedest  newbalancedest  isfraud  isflaggedfraud  \n",
       "0       956413.17       999846.33        0               0  \n",
       "1      1662603.02      1358795.06        0               0  \n",
       "2            0.00            0.00        0               0  \n",
       "3            0.00            0.00        0               0  \n",
       "4            0.00            0.00        0               0  "
      ]
     },
     "execution_count": 191,
     "metadata": {},
     "output_type": "execute_result"
    }
   ],
   "source": [
    "# same goes to the name dest \n",
    "\n",
    "df['namedest'] = df['namedest'].str[0]\n",
    "df.head()"
   ]
  },
  {
   "cell_type": "code",
   "execution_count": 192,
   "metadata": {},
   "outputs": [
    {
     "data": {
      "text/html": [
       "<div>\n",
       "<style scoped>\n",
       "    .dataframe tbody tr th:only-of-type {\n",
       "        vertical-align: middle;\n",
       "    }\n",
       "\n",
       "    .dataframe tbody tr th {\n",
       "        vertical-align: top;\n",
       "    }\n",
       "\n",
       "    .dataframe thead th {\n",
       "        text-align: right;\n",
       "    }\n",
       "</style>\n",
       "<table border=\"1\" class=\"dataframe\">\n",
       "  <thead>\n",
       "    <tr style=\"text-align: right;\">\n",
       "      <th></th>\n",
       "      <th>step</th>\n",
       "      <th>amount</th>\n",
       "      <th>nameorig</th>\n",
       "      <th>oldbalanceorg</th>\n",
       "      <th>newbalanceorig</th>\n",
       "      <th>namedest</th>\n",
       "      <th>oldbalancedest</th>\n",
       "      <th>newbalancedest</th>\n",
       "      <th>isfraud</th>\n",
       "      <th>isflaggedfraud</th>\n",
       "      <th>type_CASH_IN</th>\n",
       "      <th>type_CASH_OUT</th>\n",
       "      <th>type_DEBIT</th>\n",
       "      <th>type_PAYMENT</th>\n",
       "      <th>type_TRANSFER</th>\n",
       "    </tr>\n",
       "  </thead>\n",
       "  <tbody>\n",
       "    <tr>\n",
       "      <th>0</th>\n",
       "      <td>14</td>\n",
       "      <td>43433.16</td>\n",
       "      <td>C</td>\n",
       "      <td>0.00</td>\n",
       "      <td>0.00</td>\n",
       "      <td>C</td>\n",
       "      <td>956413.17</td>\n",
       "      <td>999846.33</td>\n",
       "      <td>0</td>\n",
       "      <td>0</td>\n",
       "      <td>0</td>\n",
       "      <td>1</td>\n",
       "      <td>0</td>\n",
       "      <td>0</td>\n",
       "      <td>0</td>\n",
       "    </tr>\n",
       "    <tr>\n",
       "      <th>1</th>\n",
       "      <td>19</td>\n",
       "      <td>303807.96</td>\n",
       "      <td>C</td>\n",
       "      <td>1155077.07</td>\n",
       "      <td>1458885.04</td>\n",
       "      <td>C</td>\n",
       "      <td>1662603.02</td>\n",
       "      <td>1358795.06</td>\n",
       "      <td>0</td>\n",
       "      <td>0</td>\n",
       "      <td>1</td>\n",
       "      <td>0</td>\n",
       "      <td>0</td>\n",
       "      <td>0</td>\n",
       "      <td>0</td>\n",
       "    </tr>\n",
       "    <tr>\n",
       "      <th>2</th>\n",
       "      <td>15</td>\n",
       "      <td>353156.81</td>\n",
       "      <td>C</td>\n",
       "      <td>32371.00</td>\n",
       "      <td>385527.81</td>\n",
       "      <td>C</td>\n",
       "      <td>0.00</td>\n",
       "      <td>0.00</td>\n",
       "      <td>0</td>\n",
       "      <td>0</td>\n",
       "      <td>1</td>\n",
       "      <td>0</td>\n",
       "      <td>0</td>\n",
       "      <td>0</td>\n",
       "      <td>0</td>\n",
       "    </tr>\n",
       "    <tr>\n",
       "      <th>3</th>\n",
       "      <td>11</td>\n",
       "      <td>7940.63</td>\n",
       "      <td>C</td>\n",
       "      <td>1840.17</td>\n",
       "      <td>0.00</td>\n",
       "      <td>M</td>\n",
       "      <td>0.00</td>\n",
       "      <td>0.00</td>\n",
       "      <td>0</td>\n",
       "      <td>0</td>\n",
       "      <td>0</td>\n",
       "      <td>0</td>\n",
       "      <td>0</td>\n",
       "      <td>1</td>\n",
       "      <td>0</td>\n",
       "    </tr>\n",
       "    <tr>\n",
       "      <th>4</th>\n",
       "      <td>10</td>\n",
       "      <td>22488.28</td>\n",
       "      <td>C</td>\n",
       "      <td>13384.00</td>\n",
       "      <td>0.00</td>\n",
       "      <td>M</td>\n",
       "      <td>0.00</td>\n",
       "      <td>0.00</td>\n",
       "      <td>0</td>\n",
       "      <td>0</td>\n",
       "      <td>0</td>\n",
       "      <td>0</td>\n",
       "      <td>0</td>\n",
       "      <td>1</td>\n",
       "      <td>0</td>\n",
       "    </tr>\n",
       "  </tbody>\n",
       "</table>\n",
       "</div>"
      ],
      "text/plain": [
       "   step     amount nameorig  oldbalanceorg  newbalanceorig namedest  \\\n",
       "0    14   43433.16        C           0.00            0.00        C   \n",
       "1    19  303807.96        C     1155077.07      1458885.04        C   \n",
       "2    15  353156.81        C       32371.00       385527.81        C   \n",
       "3    11    7940.63        C        1840.17            0.00        M   \n",
       "4    10   22488.28        C       13384.00            0.00        M   \n",
       "\n",
       "   oldbalancedest  newbalancedest  isfraud  isflaggedfraud  type_CASH_IN  \\\n",
       "0       956413.17       999846.33        0               0             0   \n",
       "1      1662603.02      1358795.06        0               0             1   \n",
       "2            0.00            0.00        0               0             1   \n",
       "3            0.00            0.00        0               0             0   \n",
       "4            0.00            0.00        0               0             0   \n",
       "\n",
       "   type_CASH_OUT  type_DEBIT  type_PAYMENT  type_TRANSFER  \n",
       "0              1           0             0              0  \n",
       "1              0           0             0              0  \n",
       "2              0           0             0              0  \n",
       "3              0           0             1              0  \n",
       "4              0           0             1              0  "
      ]
     },
     "execution_count": 192,
     "metadata": {},
     "output_type": "execute_result"
    }
   ],
   "source": [
    "df = pd.get_dummies(data = df, columns = ['type'] )\n",
    "df.head()"
   ]
  },
  {
   "cell_type": "code",
   "execution_count": 193,
   "metadata": {},
   "outputs": [
    {
     "data": {
      "text/html": [
       "<div>\n",
       "<style scoped>\n",
       "    .dataframe tbody tr th:only-of-type {\n",
       "        vertical-align: middle;\n",
       "    }\n",
       "\n",
       "    .dataframe tbody tr th {\n",
       "        vertical-align: top;\n",
       "    }\n",
       "\n",
       "    .dataframe thead th {\n",
       "        text-align: right;\n",
       "    }\n",
       "</style>\n",
       "<table border=\"1\" class=\"dataframe\">\n",
       "  <thead>\n",
       "    <tr style=\"text-align: right;\">\n",
       "      <th></th>\n",
       "      <th>step</th>\n",
       "      <th>amount</th>\n",
       "      <th>oldbalanceorg</th>\n",
       "      <th>newbalanceorig</th>\n",
       "      <th>oldbalancedest</th>\n",
       "      <th>newbalancedest</th>\n",
       "      <th>isfraud</th>\n",
       "      <th>isflaggedfraud</th>\n",
       "      <th>type_CASH_IN</th>\n",
       "      <th>type_CASH_OUT</th>\n",
       "      <th>type_DEBIT</th>\n",
       "      <th>type_PAYMENT</th>\n",
       "      <th>type_TRANSFER</th>\n",
       "      <th>nameorig_C</th>\n",
       "      <th>namedest_C</th>\n",
       "      <th>namedest_M</th>\n",
       "    </tr>\n",
       "  </thead>\n",
       "  <tbody>\n",
       "    <tr>\n",
       "      <th>0</th>\n",
       "      <td>14</td>\n",
       "      <td>43433.16</td>\n",
       "      <td>0.00</td>\n",
       "      <td>0.00</td>\n",
       "      <td>956413.17</td>\n",
       "      <td>999846.33</td>\n",
       "      <td>0</td>\n",
       "      <td>0</td>\n",
       "      <td>0</td>\n",
       "      <td>1</td>\n",
       "      <td>0</td>\n",
       "      <td>0</td>\n",
       "      <td>0</td>\n",
       "      <td>1</td>\n",
       "      <td>1</td>\n",
       "      <td>0</td>\n",
       "    </tr>\n",
       "    <tr>\n",
       "      <th>1</th>\n",
       "      <td>19</td>\n",
       "      <td>303807.96</td>\n",
       "      <td>1155077.07</td>\n",
       "      <td>1458885.04</td>\n",
       "      <td>1662603.02</td>\n",
       "      <td>1358795.06</td>\n",
       "      <td>0</td>\n",
       "      <td>0</td>\n",
       "      <td>1</td>\n",
       "      <td>0</td>\n",
       "      <td>0</td>\n",
       "      <td>0</td>\n",
       "      <td>0</td>\n",
       "      <td>1</td>\n",
       "      <td>1</td>\n",
       "      <td>0</td>\n",
       "    </tr>\n",
       "    <tr>\n",
       "      <th>2</th>\n",
       "      <td>15</td>\n",
       "      <td>353156.81</td>\n",
       "      <td>32371.00</td>\n",
       "      <td>385527.81</td>\n",
       "      <td>0.00</td>\n",
       "      <td>0.00</td>\n",
       "      <td>0</td>\n",
       "      <td>0</td>\n",
       "      <td>1</td>\n",
       "      <td>0</td>\n",
       "      <td>0</td>\n",
       "      <td>0</td>\n",
       "      <td>0</td>\n",
       "      <td>1</td>\n",
       "      <td>1</td>\n",
       "      <td>0</td>\n",
       "    </tr>\n",
       "    <tr>\n",
       "      <th>3</th>\n",
       "      <td>11</td>\n",
       "      <td>7940.63</td>\n",
       "      <td>1840.17</td>\n",
       "      <td>0.00</td>\n",
       "      <td>0.00</td>\n",
       "      <td>0.00</td>\n",
       "      <td>0</td>\n",
       "      <td>0</td>\n",
       "      <td>0</td>\n",
       "      <td>0</td>\n",
       "      <td>0</td>\n",
       "      <td>1</td>\n",
       "      <td>0</td>\n",
       "      <td>1</td>\n",
       "      <td>0</td>\n",
       "      <td>1</td>\n",
       "    </tr>\n",
       "    <tr>\n",
       "      <th>4</th>\n",
       "      <td>10</td>\n",
       "      <td>22488.28</td>\n",
       "      <td>13384.00</td>\n",
       "      <td>0.00</td>\n",
       "      <td>0.00</td>\n",
       "      <td>0.00</td>\n",
       "      <td>0</td>\n",
       "      <td>0</td>\n",
       "      <td>0</td>\n",
       "      <td>0</td>\n",
       "      <td>0</td>\n",
       "      <td>1</td>\n",
       "      <td>0</td>\n",
       "      <td>1</td>\n",
       "      <td>0</td>\n",
       "      <td>1</td>\n",
       "    </tr>\n",
       "  </tbody>\n",
       "</table>\n",
       "</div>"
      ],
      "text/plain": [
       "   step     amount  oldbalanceorg  newbalanceorig  oldbalancedest  \\\n",
       "0    14   43433.16           0.00            0.00       956413.17   \n",
       "1    19  303807.96     1155077.07      1458885.04      1662603.02   \n",
       "2    15  353156.81       32371.00       385527.81            0.00   \n",
       "3    11    7940.63        1840.17            0.00            0.00   \n",
       "4    10   22488.28       13384.00            0.00            0.00   \n",
       "\n",
       "   newbalancedest  isfraud  isflaggedfraud  type_CASH_IN  type_CASH_OUT  \\\n",
       "0       999846.33        0               0             0              1   \n",
       "1      1358795.06        0               0             1              0   \n",
       "2            0.00        0               0             1              0   \n",
       "3            0.00        0               0             0              0   \n",
       "4            0.00        0               0             0              0   \n",
       "\n",
       "   type_DEBIT  type_PAYMENT  type_TRANSFER  nameorig_C  namedest_C  namedest_M  \n",
       "0           0             0              0           1           1           0  \n",
       "1           0             0              0           1           1           0  \n",
       "2           0             0              0           1           1           0  \n",
       "3           0             1              0           1           0           1  \n",
       "4           0             1              0           1           0           1  "
      ]
     },
     "execution_count": 193,
     "metadata": {},
     "output_type": "execute_result"
    }
   ],
   "source": [
    "df = pd.get_dummies(data = df, columns = ['nameorig'])\n",
    "df = pd.get_dummies(data = df, columns = ['namedest'])\n",
    "df.head()"
   ]
  },
  {
   "cell_type": "code",
   "execution_count": 194,
   "metadata": {},
   "outputs": [
    {
     "data": {
      "text/html": [
       "<div>\n",
       "<style scoped>\n",
       "    .dataframe tbody tr th:only-of-type {\n",
       "        vertical-align: middle;\n",
       "    }\n",
       "\n",
       "    .dataframe tbody tr th {\n",
       "        vertical-align: top;\n",
       "    }\n",
       "\n",
       "    .dataframe thead th {\n",
       "        text-align: right;\n",
       "    }\n",
       "</style>\n",
       "<table border=\"1\" class=\"dataframe\">\n",
       "  <thead>\n",
       "    <tr style=\"text-align: right;\">\n",
       "      <th></th>\n",
       "      <th>step</th>\n",
       "      <th>amount</th>\n",
       "      <th>oldbalanceorg</th>\n",
       "      <th>newbalanceorig</th>\n",
       "      <th>oldbalancedest</th>\n",
       "      <th>newbalancedest</th>\n",
       "      <th>isfraud</th>\n",
       "      <th>isflaggedfraud</th>\n",
       "      <th>type_CASH_IN</th>\n",
       "      <th>type_CASH_OUT</th>\n",
       "      <th>type_DEBIT</th>\n",
       "      <th>type_PAYMENT</th>\n",
       "      <th>type_TRANSFER</th>\n",
       "      <th>nameorig_C</th>\n",
       "      <th>namedest_C</th>\n",
       "      <th>namedest_M</th>\n",
       "      <th>time</th>\n",
       "    </tr>\n",
       "  </thead>\n",
       "  <tbody>\n",
       "    <tr>\n",
       "      <th>0</th>\n",
       "      <td>14</td>\n",
       "      <td>43433.16</td>\n",
       "      <td>0.00</td>\n",
       "      <td>0.00</td>\n",
       "      <td>956413.17</td>\n",
       "      <td>999846.33</td>\n",
       "      <td>0</td>\n",
       "      <td>0</td>\n",
       "      <td>0</td>\n",
       "      <td>1</td>\n",
       "      <td>0</td>\n",
       "      <td>0</td>\n",
       "      <td>0</td>\n",
       "      <td>1</td>\n",
       "      <td>1</td>\n",
       "      <td>0</td>\n",
       "      <td>afternoon</td>\n",
       "    </tr>\n",
       "    <tr>\n",
       "      <th>1</th>\n",
       "      <td>19</td>\n",
       "      <td>303807.96</td>\n",
       "      <td>1155077.07</td>\n",
       "      <td>1458885.04</td>\n",
       "      <td>1662603.02</td>\n",
       "      <td>1358795.06</td>\n",
       "      <td>0</td>\n",
       "      <td>0</td>\n",
       "      <td>1</td>\n",
       "      <td>0</td>\n",
       "      <td>0</td>\n",
       "      <td>0</td>\n",
       "      <td>0</td>\n",
       "      <td>1</td>\n",
       "      <td>1</td>\n",
       "      <td>0</td>\n",
       "      <td>evening</td>\n",
       "    </tr>\n",
       "    <tr>\n",
       "      <th>2</th>\n",
       "      <td>15</td>\n",
       "      <td>353156.81</td>\n",
       "      <td>32371.00</td>\n",
       "      <td>385527.81</td>\n",
       "      <td>0.00</td>\n",
       "      <td>0.00</td>\n",
       "      <td>0</td>\n",
       "      <td>0</td>\n",
       "      <td>1</td>\n",
       "      <td>0</td>\n",
       "      <td>0</td>\n",
       "      <td>0</td>\n",
       "      <td>0</td>\n",
       "      <td>1</td>\n",
       "      <td>1</td>\n",
       "      <td>0</td>\n",
       "      <td>afternoon</td>\n",
       "    </tr>\n",
       "    <tr>\n",
       "      <th>3</th>\n",
       "      <td>11</td>\n",
       "      <td>7940.63</td>\n",
       "      <td>1840.17</td>\n",
       "      <td>0.00</td>\n",
       "      <td>0.00</td>\n",
       "      <td>0.00</td>\n",
       "      <td>0</td>\n",
       "      <td>0</td>\n",
       "      <td>0</td>\n",
       "      <td>0</td>\n",
       "      <td>0</td>\n",
       "      <td>1</td>\n",
       "      <td>0</td>\n",
       "      <td>1</td>\n",
       "      <td>0</td>\n",
       "      <td>1</td>\n",
       "      <td>morning</td>\n",
       "    </tr>\n",
       "    <tr>\n",
       "      <th>4</th>\n",
       "      <td>10</td>\n",
       "      <td>22488.28</td>\n",
       "      <td>13384.00</td>\n",
       "      <td>0.00</td>\n",
       "      <td>0.00</td>\n",
       "      <td>0.00</td>\n",
       "      <td>0</td>\n",
       "      <td>0</td>\n",
       "      <td>0</td>\n",
       "      <td>0</td>\n",
       "      <td>0</td>\n",
       "      <td>1</td>\n",
       "      <td>0</td>\n",
       "      <td>1</td>\n",
       "      <td>0</td>\n",
       "      <td>1</td>\n",
       "      <td>morning</td>\n",
       "    </tr>\n",
       "  </tbody>\n",
       "</table>\n",
       "</div>"
      ],
      "text/plain": [
       "   step     amount  oldbalanceorg  newbalanceorig  oldbalancedest  \\\n",
       "0    14   43433.16           0.00            0.00       956413.17   \n",
       "1    19  303807.96     1155077.07      1458885.04      1662603.02   \n",
       "2    15  353156.81       32371.00       385527.81            0.00   \n",
       "3    11    7940.63        1840.17            0.00            0.00   \n",
       "4    10   22488.28       13384.00            0.00            0.00   \n",
       "\n",
       "   newbalancedest  isfraud  isflaggedfraud  type_CASH_IN  type_CASH_OUT  \\\n",
       "0       999846.33        0               0             0              1   \n",
       "1      1358795.06        0               0             1              0   \n",
       "2            0.00        0               0             1              0   \n",
       "3            0.00        0               0             0              0   \n",
       "4            0.00        0               0             0              0   \n",
       "\n",
       "   type_DEBIT  type_PAYMENT  type_TRANSFER  nameorig_C  namedest_C  \\\n",
       "0           0             0              0           1           1   \n",
       "1           0             0              0           1           1   \n",
       "2           0             0              0           1           1   \n",
       "3           0             1              0           1           0   \n",
       "4           0             1              0           1           0   \n",
       "\n",
       "   namedest_M       time  \n",
       "0           0  afternoon  \n",
       "1           0    evening  \n",
       "2           0  afternoon  \n",
       "3           1    morning  \n",
       "4           1    morning  "
      ]
     },
     "execution_count": 194,
     "metadata": {},
     "output_type": "execute_result"
    }
   ],
   "source": [
    "## binning step into different time \n",
    "\n",
    "step_bin = [-1, 5, 11, 18, 24]\n",
    "label_bin = ['midnight', 'morning', 'afternoon', 'evening']\n",
    "\n",
    "df['time'] = pd.cut(df['step'], bins = step_bin, labels = label_bin )\n",
    "df.head()"
   ]
  },
  {
   "cell_type": "code",
   "execution_count": 195,
   "metadata": {},
   "outputs": [
    {
     "data": {
      "text/html": [
       "<div>\n",
       "<style scoped>\n",
       "    .dataframe tbody tr th:only-of-type {\n",
       "        vertical-align: middle;\n",
       "    }\n",
       "\n",
       "    .dataframe tbody tr th {\n",
       "        vertical-align: top;\n",
       "    }\n",
       "\n",
       "    .dataframe thead th {\n",
       "        text-align: right;\n",
       "    }\n",
       "</style>\n",
       "<table border=\"1\" class=\"dataframe\">\n",
       "  <thead>\n",
       "    <tr style=\"text-align: right;\">\n",
       "      <th></th>\n",
       "      <th>step</th>\n",
       "      <th>amount</th>\n",
       "      <th>oldbalanceorg</th>\n",
       "      <th>newbalanceorig</th>\n",
       "      <th>oldbalancedest</th>\n",
       "      <th>newbalancedest</th>\n",
       "      <th>isfraud</th>\n",
       "      <th>isflaggedfraud</th>\n",
       "      <th>type_CASH_IN</th>\n",
       "      <th>type_CASH_OUT</th>\n",
       "      <th>type_DEBIT</th>\n",
       "      <th>type_PAYMENT</th>\n",
       "      <th>type_TRANSFER</th>\n",
       "      <th>nameorig_C</th>\n",
       "      <th>namedest_C</th>\n",
       "      <th>namedest_M</th>\n",
       "      <th>time_midnight</th>\n",
       "      <th>time_morning</th>\n",
       "      <th>time_afternoon</th>\n",
       "      <th>time_evening</th>\n",
       "    </tr>\n",
       "  </thead>\n",
       "  <tbody>\n",
       "    <tr>\n",
       "      <th>0</th>\n",
       "      <td>14</td>\n",
       "      <td>43433.16</td>\n",
       "      <td>0.00</td>\n",
       "      <td>0.00</td>\n",
       "      <td>956413.17</td>\n",
       "      <td>999846.33</td>\n",
       "      <td>0</td>\n",
       "      <td>0</td>\n",
       "      <td>0</td>\n",
       "      <td>1</td>\n",
       "      <td>0</td>\n",
       "      <td>0</td>\n",
       "      <td>0</td>\n",
       "      <td>1</td>\n",
       "      <td>1</td>\n",
       "      <td>0</td>\n",
       "      <td>0</td>\n",
       "      <td>0</td>\n",
       "      <td>1</td>\n",
       "      <td>0</td>\n",
       "    </tr>\n",
       "    <tr>\n",
       "      <th>1</th>\n",
       "      <td>19</td>\n",
       "      <td>303807.96</td>\n",
       "      <td>1155077.07</td>\n",
       "      <td>1458885.04</td>\n",
       "      <td>1662603.02</td>\n",
       "      <td>1358795.06</td>\n",
       "      <td>0</td>\n",
       "      <td>0</td>\n",
       "      <td>1</td>\n",
       "      <td>0</td>\n",
       "      <td>0</td>\n",
       "      <td>0</td>\n",
       "      <td>0</td>\n",
       "      <td>1</td>\n",
       "      <td>1</td>\n",
       "      <td>0</td>\n",
       "      <td>0</td>\n",
       "      <td>0</td>\n",
       "      <td>0</td>\n",
       "      <td>1</td>\n",
       "    </tr>\n",
       "    <tr>\n",
       "      <th>2</th>\n",
       "      <td>15</td>\n",
       "      <td>353156.81</td>\n",
       "      <td>32371.00</td>\n",
       "      <td>385527.81</td>\n",
       "      <td>0.00</td>\n",
       "      <td>0.00</td>\n",
       "      <td>0</td>\n",
       "      <td>0</td>\n",
       "      <td>1</td>\n",
       "      <td>0</td>\n",
       "      <td>0</td>\n",
       "      <td>0</td>\n",
       "      <td>0</td>\n",
       "      <td>1</td>\n",
       "      <td>1</td>\n",
       "      <td>0</td>\n",
       "      <td>0</td>\n",
       "      <td>0</td>\n",
       "      <td>1</td>\n",
       "      <td>0</td>\n",
       "    </tr>\n",
       "    <tr>\n",
       "      <th>3</th>\n",
       "      <td>11</td>\n",
       "      <td>7940.63</td>\n",
       "      <td>1840.17</td>\n",
       "      <td>0.00</td>\n",
       "      <td>0.00</td>\n",
       "      <td>0.00</td>\n",
       "      <td>0</td>\n",
       "      <td>0</td>\n",
       "      <td>0</td>\n",
       "      <td>0</td>\n",
       "      <td>0</td>\n",
       "      <td>1</td>\n",
       "      <td>0</td>\n",
       "      <td>1</td>\n",
       "      <td>0</td>\n",
       "      <td>1</td>\n",
       "      <td>0</td>\n",
       "      <td>1</td>\n",
       "      <td>0</td>\n",
       "      <td>0</td>\n",
       "    </tr>\n",
       "    <tr>\n",
       "      <th>4</th>\n",
       "      <td>10</td>\n",
       "      <td>22488.28</td>\n",
       "      <td>13384.00</td>\n",
       "      <td>0.00</td>\n",
       "      <td>0.00</td>\n",
       "      <td>0.00</td>\n",
       "      <td>0</td>\n",
       "      <td>0</td>\n",
       "      <td>0</td>\n",
       "      <td>0</td>\n",
       "      <td>0</td>\n",
       "      <td>1</td>\n",
       "      <td>0</td>\n",
       "      <td>1</td>\n",
       "      <td>0</td>\n",
       "      <td>1</td>\n",
       "      <td>0</td>\n",
       "      <td>1</td>\n",
       "      <td>0</td>\n",
       "      <td>0</td>\n",
       "    </tr>\n",
       "  </tbody>\n",
       "</table>\n",
       "</div>"
      ],
      "text/plain": [
       "   step     amount  oldbalanceorg  newbalanceorig  oldbalancedest  \\\n",
       "0    14   43433.16           0.00            0.00       956413.17   \n",
       "1    19  303807.96     1155077.07      1458885.04      1662603.02   \n",
       "2    15  353156.81       32371.00       385527.81            0.00   \n",
       "3    11    7940.63        1840.17            0.00            0.00   \n",
       "4    10   22488.28       13384.00            0.00            0.00   \n",
       "\n",
       "   newbalancedest  isfraud  isflaggedfraud  type_CASH_IN  type_CASH_OUT  \\\n",
       "0       999846.33        0               0             0              1   \n",
       "1      1358795.06        0               0             1              0   \n",
       "2            0.00        0               0             1              0   \n",
       "3            0.00        0               0             0              0   \n",
       "4            0.00        0               0             0              0   \n",
       "\n",
       "   type_DEBIT  type_PAYMENT  type_TRANSFER  nameorig_C  namedest_C  \\\n",
       "0           0             0              0           1           1   \n",
       "1           0             0              0           1           1   \n",
       "2           0             0              0           1           1   \n",
       "3           0             1              0           1           0   \n",
       "4           0             1              0           1           0   \n",
       "\n",
       "   namedest_M  time_midnight  time_morning  time_afternoon  time_evening  \n",
       "0           0              0             0               1             0  \n",
       "1           0              0             0               0             1  \n",
       "2           0              0             0               1             0  \n",
       "3           1              0             1               0             0  \n",
       "4           1              0             1               0             0  "
      ]
     },
     "execution_count": 195,
     "metadata": {},
     "output_type": "execute_result"
    }
   ],
   "source": [
    "df = pd.get_dummies(data = df, columns = ['time'])\n",
    "df.head()"
   ]
  },
  {
   "cell_type": "code",
   "execution_count": 196,
   "metadata": {},
   "outputs": [
    {
     "data": {
      "text/html": [
       "<div>\n",
       "<style scoped>\n",
       "    .dataframe tbody tr th:only-of-type {\n",
       "        vertical-align: middle;\n",
       "    }\n",
       "\n",
       "    .dataframe tbody tr th {\n",
       "        vertical-align: top;\n",
       "    }\n",
       "\n",
       "    .dataframe thead th {\n",
       "        text-align: right;\n",
       "    }\n",
       "</style>\n",
       "<table border=\"1\" class=\"dataframe\">\n",
       "  <thead>\n",
       "    <tr style=\"text-align: right;\">\n",
       "      <th></th>\n",
       "      <th>step</th>\n",
       "      <th>amount</th>\n",
       "      <th>oldbalanceorg</th>\n",
       "      <th>newbalanceorig</th>\n",
       "      <th>oldbalancedest</th>\n",
       "      <th>newbalancedest</th>\n",
       "      <th>isfraud</th>\n",
       "      <th>isflaggedfraud</th>\n",
       "      <th>type_cash_in</th>\n",
       "      <th>type_cash_out</th>\n",
       "      <th>type_debit</th>\n",
       "      <th>type_payment</th>\n",
       "      <th>type_transfer</th>\n",
       "      <th>nameorig_c</th>\n",
       "      <th>namedest_c</th>\n",
       "      <th>namedest_m</th>\n",
       "      <th>time_midnight</th>\n",
       "      <th>time_morning</th>\n",
       "      <th>time_afternoon</th>\n",
       "      <th>time_evening</th>\n",
       "    </tr>\n",
       "  </thead>\n",
       "  <tbody>\n",
       "    <tr>\n",
       "      <th>0</th>\n",
       "      <td>14</td>\n",
       "      <td>43433.16</td>\n",
       "      <td>0.00</td>\n",
       "      <td>0.00</td>\n",
       "      <td>956413.17</td>\n",
       "      <td>999846.33</td>\n",
       "      <td>0</td>\n",
       "      <td>0</td>\n",
       "      <td>0</td>\n",
       "      <td>1</td>\n",
       "      <td>0</td>\n",
       "      <td>0</td>\n",
       "      <td>0</td>\n",
       "      <td>1</td>\n",
       "      <td>1</td>\n",
       "      <td>0</td>\n",
       "      <td>0</td>\n",
       "      <td>0</td>\n",
       "      <td>1</td>\n",
       "      <td>0</td>\n",
       "    </tr>\n",
       "    <tr>\n",
       "      <th>1</th>\n",
       "      <td>19</td>\n",
       "      <td>303807.96</td>\n",
       "      <td>1155077.07</td>\n",
       "      <td>1458885.04</td>\n",
       "      <td>1662603.02</td>\n",
       "      <td>1358795.06</td>\n",
       "      <td>0</td>\n",
       "      <td>0</td>\n",
       "      <td>1</td>\n",
       "      <td>0</td>\n",
       "      <td>0</td>\n",
       "      <td>0</td>\n",
       "      <td>0</td>\n",
       "      <td>1</td>\n",
       "      <td>1</td>\n",
       "      <td>0</td>\n",
       "      <td>0</td>\n",
       "      <td>0</td>\n",
       "      <td>0</td>\n",
       "      <td>1</td>\n",
       "    </tr>\n",
       "    <tr>\n",
       "      <th>2</th>\n",
       "      <td>15</td>\n",
       "      <td>353156.81</td>\n",
       "      <td>32371.00</td>\n",
       "      <td>385527.81</td>\n",
       "      <td>0.00</td>\n",
       "      <td>0.00</td>\n",
       "      <td>0</td>\n",
       "      <td>0</td>\n",
       "      <td>1</td>\n",
       "      <td>0</td>\n",
       "      <td>0</td>\n",
       "      <td>0</td>\n",
       "      <td>0</td>\n",
       "      <td>1</td>\n",
       "      <td>1</td>\n",
       "      <td>0</td>\n",
       "      <td>0</td>\n",
       "      <td>0</td>\n",
       "      <td>1</td>\n",
       "      <td>0</td>\n",
       "    </tr>\n",
       "    <tr>\n",
       "      <th>3</th>\n",
       "      <td>11</td>\n",
       "      <td>7940.63</td>\n",
       "      <td>1840.17</td>\n",
       "      <td>0.00</td>\n",
       "      <td>0.00</td>\n",
       "      <td>0.00</td>\n",
       "      <td>0</td>\n",
       "      <td>0</td>\n",
       "      <td>0</td>\n",
       "      <td>0</td>\n",
       "      <td>0</td>\n",
       "      <td>1</td>\n",
       "      <td>0</td>\n",
       "      <td>1</td>\n",
       "      <td>0</td>\n",
       "      <td>1</td>\n",
       "      <td>0</td>\n",
       "      <td>1</td>\n",
       "      <td>0</td>\n",
       "      <td>0</td>\n",
       "    </tr>\n",
       "    <tr>\n",
       "      <th>4</th>\n",
       "      <td>10</td>\n",
       "      <td>22488.28</td>\n",
       "      <td>13384.00</td>\n",
       "      <td>0.00</td>\n",
       "      <td>0.00</td>\n",
       "      <td>0.00</td>\n",
       "      <td>0</td>\n",
       "      <td>0</td>\n",
       "      <td>0</td>\n",
       "      <td>0</td>\n",
       "      <td>0</td>\n",
       "      <td>1</td>\n",
       "      <td>0</td>\n",
       "      <td>1</td>\n",
       "      <td>0</td>\n",
       "      <td>1</td>\n",
       "      <td>0</td>\n",
       "      <td>1</td>\n",
       "      <td>0</td>\n",
       "      <td>0</td>\n",
       "    </tr>\n",
       "  </tbody>\n",
       "</table>\n",
       "</div>"
      ],
      "text/plain": [
       "   step     amount  oldbalanceorg  newbalanceorig  oldbalancedest  \\\n",
       "0    14   43433.16           0.00            0.00       956413.17   \n",
       "1    19  303807.96     1155077.07      1458885.04      1662603.02   \n",
       "2    15  353156.81       32371.00       385527.81            0.00   \n",
       "3    11    7940.63        1840.17            0.00            0.00   \n",
       "4    10   22488.28       13384.00            0.00            0.00   \n",
       "\n",
       "   newbalancedest  isfraud  isflaggedfraud  type_cash_in  type_cash_out  \\\n",
       "0       999846.33        0               0             0              1   \n",
       "1      1358795.06        0               0             1              0   \n",
       "2            0.00        0               0             1              0   \n",
       "3            0.00        0               0             0              0   \n",
       "4            0.00        0               0             0              0   \n",
       "\n",
       "   type_debit  type_payment  type_transfer  nameorig_c  namedest_c  \\\n",
       "0           0             0              0           1           1   \n",
       "1           0             0              0           1           1   \n",
       "2           0             0              0           1           1   \n",
       "3           0             1              0           1           0   \n",
       "4           0             1              0           1           0   \n",
       "\n",
       "   namedest_m  time_midnight  time_morning  time_afternoon  time_evening  \n",
       "0           0              0             0               1             0  \n",
       "1           0              0             0               0             1  \n",
       "2           0              0             0               1             0  \n",
       "3           1              0             1               0             0  \n",
       "4           1              0             1               0             0  "
      ]
     },
     "execution_count": 196,
     "metadata": {},
     "output_type": "execute_result"
    }
   ],
   "source": [
    "# since there's only 1 value for nameorig we're going to drop it, and since the sample value doesn't have transaction \n",
    "# that is flagged fraud we're going to drop the column as well\n",
    "# but first we're going to rename all the columns into lower case first because of preference\n",
    "\n",
    "df.columns = df.columns.str.lower()\n",
    "df.head()"
   ]
  },
  {
   "cell_type": "code",
   "execution_count": 197,
   "metadata": {},
   "outputs": [
    {
     "data": {
      "text/html": [
       "<div>\n",
       "<style scoped>\n",
       "    .dataframe tbody tr th:only-of-type {\n",
       "        vertical-align: middle;\n",
       "    }\n",
       "\n",
       "    .dataframe tbody tr th {\n",
       "        vertical-align: top;\n",
       "    }\n",
       "\n",
       "    .dataframe thead th {\n",
       "        text-align: right;\n",
       "    }\n",
       "</style>\n",
       "<table border=\"1\" class=\"dataframe\">\n",
       "  <thead>\n",
       "    <tr style=\"text-align: right;\">\n",
       "      <th></th>\n",
       "      <th>step</th>\n",
       "      <th>amount</th>\n",
       "      <th>oldbalanceorg</th>\n",
       "      <th>newbalanceorig</th>\n",
       "      <th>oldbalancedest</th>\n",
       "      <th>newbalancedest</th>\n",
       "      <th>isfraud</th>\n",
       "      <th>type_cash_in</th>\n",
       "      <th>type_cash_out</th>\n",
       "      <th>type_debit</th>\n",
       "      <th>type_payment</th>\n",
       "      <th>type_transfer</th>\n",
       "      <th>namedest_c</th>\n",
       "      <th>namedest_m</th>\n",
       "      <th>time_midnight</th>\n",
       "      <th>time_morning</th>\n",
       "      <th>time_afternoon</th>\n",
       "      <th>time_evening</th>\n",
       "    </tr>\n",
       "  </thead>\n",
       "  <tbody>\n",
       "    <tr>\n",
       "      <th>0</th>\n",
       "      <td>14</td>\n",
       "      <td>43433.16</td>\n",
       "      <td>0.00</td>\n",
       "      <td>0.00</td>\n",
       "      <td>956413.17</td>\n",
       "      <td>999846.33</td>\n",
       "      <td>0</td>\n",
       "      <td>0</td>\n",
       "      <td>1</td>\n",
       "      <td>0</td>\n",
       "      <td>0</td>\n",
       "      <td>0</td>\n",
       "      <td>1</td>\n",
       "      <td>0</td>\n",
       "      <td>0</td>\n",
       "      <td>0</td>\n",
       "      <td>1</td>\n",
       "      <td>0</td>\n",
       "    </tr>\n",
       "    <tr>\n",
       "      <th>1</th>\n",
       "      <td>19</td>\n",
       "      <td>303807.96</td>\n",
       "      <td>1155077.07</td>\n",
       "      <td>1458885.04</td>\n",
       "      <td>1662603.02</td>\n",
       "      <td>1358795.06</td>\n",
       "      <td>0</td>\n",
       "      <td>1</td>\n",
       "      <td>0</td>\n",
       "      <td>0</td>\n",
       "      <td>0</td>\n",
       "      <td>0</td>\n",
       "      <td>1</td>\n",
       "      <td>0</td>\n",
       "      <td>0</td>\n",
       "      <td>0</td>\n",
       "      <td>0</td>\n",
       "      <td>1</td>\n",
       "    </tr>\n",
       "    <tr>\n",
       "      <th>2</th>\n",
       "      <td>15</td>\n",
       "      <td>353156.81</td>\n",
       "      <td>32371.00</td>\n",
       "      <td>385527.81</td>\n",
       "      <td>0.00</td>\n",
       "      <td>0.00</td>\n",
       "      <td>0</td>\n",
       "      <td>1</td>\n",
       "      <td>0</td>\n",
       "      <td>0</td>\n",
       "      <td>0</td>\n",
       "      <td>0</td>\n",
       "      <td>1</td>\n",
       "      <td>0</td>\n",
       "      <td>0</td>\n",
       "      <td>0</td>\n",
       "      <td>1</td>\n",
       "      <td>0</td>\n",
       "    </tr>\n",
       "    <tr>\n",
       "      <th>3</th>\n",
       "      <td>11</td>\n",
       "      <td>7940.63</td>\n",
       "      <td>1840.17</td>\n",
       "      <td>0.00</td>\n",
       "      <td>0.00</td>\n",
       "      <td>0.00</td>\n",
       "      <td>0</td>\n",
       "      <td>0</td>\n",
       "      <td>0</td>\n",
       "      <td>0</td>\n",
       "      <td>1</td>\n",
       "      <td>0</td>\n",
       "      <td>0</td>\n",
       "      <td>1</td>\n",
       "      <td>0</td>\n",
       "      <td>1</td>\n",
       "      <td>0</td>\n",
       "      <td>0</td>\n",
       "    </tr>\n",
       "    <tr>\n",
       "      <th>4</th>\n",
       "      <td>10</td>\n",
       "      <td>22488.28</td>\n",
       "      <td>13384.00</td>\n",
       "      <td>0.00</td>\n",
       "      <td>0.00</td>\n",
       "      <td>0.00</td>\n",
       "      <td>0</td>\n",
       "      <td>0</td>\n",
       "      <td>0</td>\n",
       "      <td>0</td>\n",
       "      <td>1</td>\n",
       "      <td>0</td>\n",
       "      <td>0</td>\n",
       "      <td>1</td>\n",
       "      <td>0</td>\n",
       "      <td>1</td>\n",
       "      <td>0</td>\n",
       "      <td>0</td>\n",
       "    </tr>\n",
       "  </tbody>\n",
       "</table>\n",
       "</div>"
      ],
      "text/plain": [
       "   step     amount  oldbalanceorg  newbalanceorig  oldbalancedest  \\\n",
       "0    14   43433.16           0.00            0.00       956413.17   \n",
       "1    19  303807.96     1155077.07      1458885.04      1662603.02   \n",
       "2    15  353156.81       32371.00       385527.81            0.00   \n",
       "3    11    7940.63        1840.17            0.00            0.00   \n",
       "4    10   22488.28       13384.00            0.00            0.00   \n",
       "\n",
       "   newbalancedest  isfraud  type_cash_in  type_cash_out  type_debit  \\\n",
       "0       999846.33        0             0              1           0   \n",
       "1      1358795.06        0             1              0           0   \n",
       "2            0.00        0             1              0           0   \n",
       "3            0.00        0             0              0           0   \n",
       "4            0.00        0             0              0           0   \n",
       "\n",
       "   type_payment  type_transfer  namedest_c  namedest_m  time_midnight  \\\n",
       "0             0              0           1           0              0   \n",
       "1             0              0           1           0              0   \n",
       "2             0              0           1           0              0   \n",
       "3             1              0           0           1              0   \n",
       "4             1              0           0           1              0   \n",
       "\n",
       "   time_morning  time_afternoon  time_evening  \n",
       "0             0               1             0  \n",
       "1             0               0             1  \n",
       "2             0               1             0  \n",
       "3             1               0             0  \n",
       "4             1               0             0  "
      ]
     },
     "execution_count": 197,
     "metadata": {},
     "output_type": "execute_result"
    }
   ],
   "source": [
    "df = df.drop(columns = ['nameorig_c', 'isflaggedfraud'])\n",
    "df.head()"
   ]
  },
  {
   "cell_type": "code",
   "execution_count": 198,
   "metadata": {},
   "outputs": [],
   "source": [
    "## now all the object columns hasbeen encoded we can start looking at the correlation and do features selection"
   ]
  },
  {
   "cell_type": "code",
   "execution_count": 199,
   "metadata": {},
   "outputs": [
    {
     "data": {
      "text/plain": [
       "<matplotlib.axes._subplots.AxesSubplot at 0x172395b78e0>"
      ]
     },
     "execution_count": 199,
     "metadata": {},
     "output_type": "execute_result"
    },
    {
     "data": {
      "image/png": "[encoded data removed]",
      "text/plain": [
       "<Figure size 1440x720 with 2 Axes>"
      ]
     },
     "metadata": {
      "needs_background": "light"
     },
     "output_type": "display_data"
    }
   ],
   "source": [
    "plt.figure(figsize = (20, 10))\n",
    "sns.heatmap(df.corr(),  annot = True)\n"
   ]
  },
  {
   "cell_type": "code",
   "execution_count": 200,
   "metadata": {},
   "outputs": [
    {
     "data": {
      "text/plain": [
       "amount            0.078708\n",
       "time_midnight     0.065003\n",
       "type_transfer     0.053407\n",
       "namedest_c        0.025641\n",
       "type_cash_out     0.011381\n",
       "oldbalanceorg     0.010088\n",
       "time_morning      0.006258\n",
       "newbalancedest    0.000572\n",
       "type_debit       -0.002901\n",
       "time_evening     -0.005991\n",
       "oldbalancedest   -0.007038\n",
       "newbalanceorig   -0.008721\n",
       "time_afternoon   -0.016781\n",
       "type_cash_in     -0.019100\n",
       "type_payment     -0.025641\n",
       "namedest_m       -0.025641\n",
       "step             -0.032859\n",
       "Name: isfraud, dtype: float64"
      ]
     },
     "execution_count": 200,
     "metadata": {},
     "output_type": "execute_result"
    }
   ],
   "source": [
    "correlation = df.corr()\n",
    "correlation['isfraud'].sort_values(ascending = False)[1:]\n",
    "\n",
    "# from the correlation and from past eda we know that fraud could happened at any time of the day so we will take step\n",
    "# and the type of transaction only transfer and cashout\n",
    "# 98% of fraud emptied theeir bank account se we will take all the balance column as features"
   ]
  },
  {
   "cell_type": "markdown",
   "metadata": {},
   "source": [
    "### Feature Selection "
   ]
  },
  {
   "cell_type": "code",
   "execution_count": 201,
   "metadata": {},
   "outputs": [],
   "source": [
    "X = df[['amount', 'newbalanceorig','step','oldbalanceorg','oldbalancedest', 'newbalancedest']]\n",
    "y = df['isfraud']\n",
    "\n",
    "X_train, X_test, y_train, y_test = train_test_split(X, y , random_state = 42, test_size = 0.2, stratify = y)"
   ]
  },
  {
   "cell_type": "markdown",
   "metadata": {},
   "source": [
    "### Smote Process since the data is imbalance \n",
    "\n",
    "\n",
    "since we know after the eda the data is imbalance we will handle it before processing it into machine learning\n"
   ]
  },
  {
   "cell_type": "code",
   "execution_count": 202,
   "metadata": {},
   "outputs": [],
   "source": [
    "import imblearn\n",
    "from imblearn.over_sampling import SMOTE\n",
    "\n",
    "sm = SMOTE(random_state = 42)"
   ]
  },
  {
   "cell_type": "code",
   "execution_count": 203,
   "metadata": {},
   "outputs": [],
   "source": [
    "X_train_sm, y_train_sm = sm.fit_sample(X_train, y_train)"
   ]
  },
  {
   "cell_type": "code",
   "execution_count": 204,
   "metadata": {},
   "outputs": [
    {
     "data": {
      "text/plain": [
       "1    508352\n",
       "0    508352\n",
       "Name: isfraud, dtype: int64"
      ]
     },
     "execution_count": 204,
     "metadata": {},
     "output_type": "execute_result"
    }
   ],
   "source": [
    "df_smote = pd.concat([X_train_sm, y_train_sm], axis = 1)\n",
    "df_smote['isfraud'].value_counts()\n",
    "\n",
    "# this is just for sanity check to make sure that it's been done correctly"
   ]
  },
  {
   "cell_type": "code",
   "execution_count": 205,
   "metadata": {},
   "outputs": [
    {
     "data": {
      "text/html": [
       "<div>\n",
       "<style scoped>\n",
       "    .dataframe tbody tr th:only-of-type {\n",
       "        vertical-align: middle;\n",
       "    }\n",
       "\n",
       "    .dataframe tbody tr th {\n",
       "        vertical-align: top;\n",
       "    }\n",
       "\n",
       "    .dataframe thead th {\n",
       "        text-align: right;\n",
       "    }\n",
       "</style>\n",
       "<table border=\"1\" class=\"dataframe\">\n",
       "  <thead>\n",
       "    <tr style=\"text-align: right;\">\n",
       "      <th></th>\n",
       "      <th>amount</th>\n",
       "      <th>newbalanceorig</th>\n",
       "      <th>step</th>\n",
       "      <th>oldbalanceorg</th>\n",
       "      <th>oldbalancedest</th>\n",
       "      <th>newbalancedest</th>\n",
       "    </tr>\n",
       "  </thead>\n",
       "  <tbody>\n",
       "    <tr>\n",
       "      <th>0</th>\n",
       "      <td>5325.35</td>\n",
       "      <td>0.00</td>\n",
       "      <td>15</td>\n",
       "      <td>0.00</td>\n",
       "      <td>0.00</td>\n",
       "      <td>0.00</td>\n",
       "    </tr>\n",
       "    <tr>\n",
       "      <th>1</th>\n",
       "      <td>355295.42</td>\n",
       "      <td>0.00</td>\n",
       "      <td>16</td>\n",
       "      <td>164.00</td>\n",
       "      <td>0.00</td>\n",
       "      <td>355295.42</td>\n",
       "    </tr>\n",
       "    <tr>\n",
       "      <th>2</th>\n",
       "      <td>25789.44</td>\n",
       "      <td>27298.63</td>\n",
       "      <td>20</td>\n",
       "      <td>53088.08</td>\n",
       "      <td>0.00</td>\n",
       "      <td>0.00</td>\n",
       "    </tr>\n",
       "    <tr>\n",
       "      <th>3</th>\n",
       "      <td>9813016.49</td>\n",
       "      <td>0.00</td>\n",
       "      <td>16</td>\n",
       "      <td>21424.00</td>\n",
       "      <td>1526106.09</td>\n",
       "      <td>11339122.58</td>\n",
       "    </tr>\n",
       "    <tr>\n",
       "      <th>4</th>\n",
       "      <td>55830.64</td>\n",
       "      <td>7165711.16</td>\n",
       "      <td>20</td>\n",
       "      <td>7109880.52</td>\n",
       "      <td>114066.21</td>\n",
       "      <td>58235.56</td>\n",
       "    </tr>\n",
       "  </tbody>\n",
       "</table>\n",
       "</div>"
      ],
      "text/plain": [
       "       amount  newbalanceorig  step  oldbalanceorg  oldbalancedest  \\\n",
       "0     5325.35            0.00    15           0.00            0.00   \n",
       "1   355295.42            0.00    16         164.00            0.00   \n",
       "2    25789.44        27298.63    20       53088.08            0.00   \n",
       "3  9813016.49            0.00    16       21424.00      1526106.09   \n",
       "4    55830.64      7165711.16    20     7109880.52       114066.21   \n",
       "\n",
       "   newbalancedest  \n",
       "0            0.00  \n",
       "1       355295.42  \n",
       "2            0.00  \n",
       "3     11339122.58  \n",
       "4        58235.56  "
      ]
     },
     "execution_count": 205,
     "metadata": {},
     "output_type": "execute_result"
    }
   ],
   "source": [
    "X_train_sm.head()"
   ]
  },
  {
   "cell_type": "markdown",
   "metadata": {},
   "source": [
    "### Model Building\n",
    "\n",
    "#### KNN"
   ]
  },
  {
   "cell_type": "code",
   "execution_count": 206,
   "metadata": {},
   "outputs": [],
   "source": [
    "KNN_base = KNeighborsClassifier()\n",
    "KNN_base.fit(X_train_sm, y_train_sm)\n",
    "y_pred_KNN_base = KNN_base.predict(X_test)\n",
    "y_pred_KNN_base_train = KNN_base.predict(X_train_sm)"
   ]
  },
  {
   "cell_type": "code",
   "execution_count": 207,
   "metadata": {},
   "outputs": [
    {
     "name": "stdout",
     "output_type": "stream",
     "text": [
      "train recall: 0.9999036100969407\n",
      "test recall: 0.823170731707317\n"
     ]
    }
   ],
   "source": [
    "recall_KNN_base = recall_score(y_test, y_pred_KNN_base)\n",
    "acc_KNN_base = accuracy_score(y_test, y_pred_KNN_base)\n",
    "precision_KNN_base = precision_score(y_test, y_pred_KNN_base)\n",
    "f1_KNN_base = f1_score(y_test, y_pred_KNN_base)\n",
    "recall_KNN_base_train = recall_score(y_train_sm, y_pred_KNN_base_train)\n",
    "\n",
    "print(f\"train recall: {recall_KNN_base_train}\")\n",
    "print(f\"test recall: {recall_KNN_base}\")"
   ]
  },
  {
   "cell_type": "code",
   "execution_count": 208,
   "metadata": {},
   "outputs": [
    {
     "name": "stdout",
     "output_type": "stream",
     "text": [
      "              precision    recall  f1-score   support\n",
      "\n",
      "           0       1.00      0.99      1.00    127089\n",
      "           1       0.12      0.82      0.21       164\n",
      "\n",
      "    accuracy                           0.99    127253\n",
      "   macro avg       0.56      0.91      0.61    127253\n",
      "weighted avg       1.00      0.99      1.00    127253\n",
      "\n"
     ]
    }
   ],
   "source": [
    "print(classification_report(y_test, y_pred_KNN_base))"
   ]
  },
  {
   "cell_type": "code",
   "execution_count": 209,
   "metadata": {},
   "outputs": [
    {
     "data": {
      "text/html": [
       "<div>\n",
       "<style scoped>\n",
       "    .dataframe tbody tr th:only-of-type {\n",
       "        vertical-align: middle;\n",
       "    }\n",
       "\n",
       "    .dataframe tbody tr th {\n",
       "        vertical-align: top;\n",
       "    }\n",
       "\n",
       "    .dataframe thead th {\n",
       "        text-align: right;\n",
       "    }\n",
       "</style>\n",
       "<table border=\"1\" class=\"dataframe\">\n",
       "  <thead>\n",
       "    <tr style=\"text-align: right;\">\n",
       "      <th></th>\n",
       "      <th>Prediksi 1</th>\n",
       "      <th>Prediksi 0</th>\n",
       "    </tr>\n",
       "  </thead>\n",
       "  <tbody>\n",
       "    <tr>\n",
       "      <th>aktual 1</th>\n",
       "      <td>135</td>\n",
       "      <td>29</td>\n",
       "    </tr>\n",
       "    <tr>\n",
       "      <th>aktual 0</th>\n",
       "      <td>962</td>\n",
       "      <td>126127</td>\n",
       "    </tr>\n",
       "  </tbody>\n",
       "</table>\n",
       "</div>"
      ],
      "text/plain": [
       "          Prediksi 1  Prediksi 0\n",
       "aktual 1         135          29\n",
       "aktual 0         962      126127"
      ]
     },
     "execution_count": 209,
     "metadata": {},
     "output_type": "execute_result"
    }
   ],
   "source": [
    "cm_KNN_base = confusion_matrix(y_test, y_pred_KNN_base, labels = [1,0])\n",
    "df_KNN_base = pd.DataFrame(data = cm_KNN_base, index = ['aktual 1', 'aktual 0'], columns = ['Prediksi 1', 'Prediksi 0'])\n",
    "df_KNN_base\n",
    "\n"
   ]
  },
  {
   "cell_type": "code",
   "execution_count": 210,
   "metadata": {},
   "outputs": [
    {
     "data": {
      "text/plain": [
       "<matplotlib.axes._subplots.AxesSubplot at 0x1722b5eb370>"
      ]
     },
     "execution_count": 210,
     "metadata": {},
     "output_type": "execute_result"
    },
    {
     "data": {
      "image/png": "[encoded data removed]",
      "text/plain": [
       "<Figure size 432x288 with 2 Axes>"
      ]
     },
     "metadata": {
      "needs_background": "light"
     },
     "output_type": "display_data"
    }
   ],
   "source": [
    "sns.heatmap(df_KNN_base, annot = True)"
   ]
  },
  {
   "cell_type": "markdown",
   "metadata": {},
   "source": [
    "### Logistic Regression"
   ]
  },
  {
   "cell_type": "code",
   "execution_count": 211,
   "metadata": {},
   "outputs": [],
   "source": [
    "logreg_base =LogisticRegression()\n",
    "logreg_base.fit(X_train_sm, y_train_sm)\n",
    "y_pred_logreg_base = logreg_base.predict(X_test)\n",
    "y_pred_logreg_base_train = logreg_base.predict(X_train_sm)"
   ]
  },
  {
   "cell_type": "code",
   "execution_count": 212,
   "metadata": {},
   "outputs": [
    {
     "name": "stdout",
     "output_type": "stream",
     "text": [
      "train recall: 0.9903924839481304\n",
      "test recall: 0.9878048780487805\n"
     ]
    }
   ],
   "source": [
    "recall_logreg_base = recall_score(y_test, y_pred_logreg_base)\n",
    "acc_logreg_base = accuracy_score(y_test, y_pred_logreg_base)\n",
    "precision_logreg_base = precision_score(y_test, y_pred_logreg_base)\n",
    "f1_logreg_base = f1_score(y_test, y_pred_logreg_base)\n",
    "recall_logreg_base_train = recall_score(y_train_sm, y_pred_logreg_base_train)\n",
    "\n",
    "print(f\"train recall: {recall_logreg_base_train}\")\n",
    "print(f\"test recall: {recall_logreg_base}\")"
   ]
  },
  {
   "cell_type": "code",
   "execution_count": 213,
   "metadata": {},
   "outputs": [
    {
     "name": "stdout",
     "output_type": "stream",
     "text": [
      "              precision    recall  f1-score   support\n",
      "\n",
      "           0       1.00      0.94      0.97    127089\n",
      "           1       0.02      0.99      0.04       164\n",
      "\n",
      "    accuracy                           0.94    127253\n",
      "   macro avg       0.51      0.96      0.50    127253\n",
      "weighted avg       1.00      0.94      0.97    127253\n",
      "\n"
     ]
    }
   ],
   "source": [
    "print(classification_report(y_test, y_pred_logreg_base))"
   ]
  },
  {
   "cell_type": "code",
   "execution_count": 214,
   "metadata": {},
   "outputs": [
    {
     "data": {
      "text/html": [
       "<div>\n",
       "<style scoped>\n",
       "    .dataframe tbody tr th:only-of-type {\n",
       "        vertical-align: middle;\n",
       "    }\n",
       "\n",
       "    .dataframe tbody tr th {\n",
       "        vertical-align: top;\n",
       "    }\n",
       "\n",
       "    .dataframe thead th {\n",
       "        text-align: right;\n",
       "    }\n",
       "</style>\n",
       "<table border=\"1\" class=\"dataframe\">\n",
       "  <thead>\n",
       "    <tr style=\"text-align: right;\">\n",
       "      <th></th>\n",
       "      <th>Prediksi 1</th>\n",
       "      <th>Prediksi 0</th>\n",
       "    </tr>\n",
       "  </thead>\n",
       "  <tbody>\n",
       "    <tr>\n",
       "      <th>aktual 1</th>\n",
       "      <td>162</td>\n",
       "      <td>2</td>\n",
       "    </tr>\n",
       "    <tr>\n",
       "      <th>aktual 0</th>\n",
       "      <td>7932</td>\n",
       "      <td>119157</td>\n",
       "    </tr>\n",
       "  </tbody>\n",
       "</table>\n",
       "</div>"
      ],
      "text/plain": [
       "          Prediksi 1  Prediksi 0\n",
       "aktual 1         162           2\n",
       "aktual 0        7932      119157"
      ]
     },
     "execution_count": 214,
     "metadata": {},
     "output_type": "execute_result"
    }
   ],
   "source": [
    "cm_logreg_base = confusion_matrix(y_test, y_pred_logreg_base, labels = [1,0])\n",
    "df_logreg_base = pd.DataFrame(data = cm_logreg_base, index = ['aktual 1', 'aktual 0'], columns = ['Prediksi 1', 'Prediksi 0'])\n",
    "df_logreg_base"
   ]
  },
  {
   "cell_type": "code",
   "execution_count": 215,
   "metadata": {},
   "outputs": [
    {
     "data": {
      "text/plain": [
       "<matplotlib.axes._subplots.AxesSubplot at 0x1722a328490>"
      ]
     },
     "execution_count": 215,
     "metadata": {},
     "output_type": "execute_result"
    },
    {
     "data": {
      "image/png": "[encoded data removed]",
      "text/plain": [
       "<Figure size 432x288 with 2 Axes>"
      ]
     },
     "metadata": {
      "needs_background": "light"
     },
     "output_type": "display_data"
    }
   ],
   "source": [
    "sns.heatmap(df_logreg_base, annot = True)\n",
    "\n",
    "# logistic regression get a perfect score for everything \n",
    "# this might be due to the low number of population\n",
    "\n",
    "# need to validate this further"
   ]
  },
  {
   "cell_type": "markdown",
   "metadata": {},
   "source": [
    "### Decision Tree"
   ]
  },
  {
   "cell_type": "code",
   "execution_count": 216,
   "metadata": {},
   "outputs": [],
   "source": [
    "DT_base =DecisionTreeClassifier()\n",
    "DT_base.fit(X_train_sm, y_train_sm)\n",
    "y_pred_DT_base = DT_base.predict(X_test)\n",
    "y_pred_DT_base_train = DT_base.predict(X_train_sm)"
   ]
  },
  {
   "cell_type": "code",
   "execution_count": 217,
   "metadata": {},
   "outputs": [
    {
     "name": "stdout",
     "output_type": "stream",
     "text": [
      "train recall: 1.0\n",
      "test recall: 0.8353658536585366\n"
     ]
    }
   ],
   "source": [
    "recall_DT_base = recall_score(y_test, y_pred_DT_base)\n",
    "acc_DT_base = accuracy_score(y_test, y_pred_DT_base)\n",
    "precision_DT_base = precision_score(y_test, y_pred_DT_base)\n",
    "f1_DT_base = f1_score(y_test, y_pred_DT_base)\n",
    "recall_DT_base_train = recall_score(y_train_sm, y_pred_DT_base_train)\n",
    "\n",
    "print(f\"train recall: {recall_DT_base_train}\")\n",
    "print(f\"test recall: {recall_DT_base}\")"
   ]
  },
  {
   "cell_type": "code",
   "execution_count": 218,
   "metadata": {},
   "outputs": [
    {
     "name": "stdout",
     "output_type": "stream",
     "text": [
      "              precision    recall  f1-score   support\n",
      "\n",
      "           0       1.00      1.00      1.00    127089\n",
      "           1       0.43      0.84      0.56       164\n",
      "\n",
      "    accuracy                           1.00    127253\n",
      "   macro avg       0.71      0.92      0.78    127253\n",
      "weighted avg       1.00      1.00      1.00    127253\n",
      "\n"
     ]
    }
   ],
   "source": [
    "print(classification_report(y_test, y_pred_DT_base))"
   ]
  },
  {
   "cell_type": "code",
   "execution_count": 219,
   "metadata": {},
   "outputs": [
    {
     "data": {
      "text/html": [
       "<div>\n",
       "<style scoped>\n",
       "    .dataframe tbody tr th:only-of-type {\n",
       "        vertical-align: middle;\n",
       "    }\n",
       "\n",
       "    .dataframe tbody tr th {\n",
       "        vertical-align: top;\n",
       "    }\n",
       "\n",
       "    .dataframe thead th {\n",
       "        text-align: right;\n",
       "    }\n",
       "</style>\n",
       "<table border=\"1\" class=\"dataframe\">\n",
       "  <thead>\n",
       "    <tr style=\"text-align: right;\">\n",
       "      <th></th>\n",
       "      <th>Prediksi 1</th>\n",
       "      <th>Prediksi 0</th>\n",
       "    </tr>\n",
       "  </thead>\n",
       "  <tbody>\n",
       "    <tr>\n",
       "      <th>aktual 1</th>\n",
       "      <td>137</td>\n",
       "      <td>27</td>\n",
       "    </tr>\n",
       "    <tr>\n",
       "      <th>aktual 0</th>\n",
       "      <td>185</td>\n",
       "      <td>126904</td>\n",
       "    </tr>\n",
       "  </tbody>\n",
       "</table>\n",
       "</div>"
      ],
      "text/plain": [
       "          Prediksi 1  Prediksi 0\n",
       "aktual 1         137          27\n",
       "aktual 0         185      126904"
      ]
     },
     "execution_count": 219,
     "metadata": {},
     "output_type": "execute_result"
    }
   ],
   "source": [
    "cm_DT_base = confusion_matrix(y_test, y_pred_DT_base, labels = [1,0])\n",
    "df_DT_base = pd.DataFrame(data = cm_DT_base, index = ['aktual 1', 'aktual 0'], columns = ['Prediksi 1', 'Prediksi 0'])\n",
    "df_DT_base"
   ]
  },
  {
   "cell_type": "code",
   "execution_count": 220,
   "metadata": {},
   "outputs": [
    {
     "data": {
      "text/plain": [
       "<matplotlib.axes._subplots.AxesSubplot at 0x1722a255bb0>"
      ]
     },
     "execution_count": 220,
     "metadata": {},
     "output_type": "execute_result"
    },
    {
     "data": {
      "image/png": "[encoded data removed]",
      "text/plain": [
       "<Figure size 432x288 with 2 Axes>"
      ]
     },
     "metadata": {
      "needs_background": "light"
     },
     "output_type": "display_data"
    }
   ],
   "source": [
    "sns.heatmap(df_DT_base, annot =True )"
   ]
  },
  {
   "cell_type": "code",
   "execution_count": 223,
   "metadata": {},
   "outputs": [
    {
     "data": {
      "text/html": [
       "<div>\n",
       "<style scoped>\n",
       "    .dataframe tbody tr th:only-of-type {\n",
       "        vertical-align: middle;\n",
       "    }\n",
       "\n",
       "    .dataframe tbody tr th {\n",
       "        vertical-align: top;\n",
       "    }\n",
       "\n",
       "    .dataframe thead th {\n",
       "        text-align: right;\n",
       "    }\n",
       "</style>\n",
       "<table border=\"1\" class=\"dataframe\">\n",
       "  <thead>\n",
       "    <tr style=\"text-align: right;\">\n",
       "      <th></th>\n",
       "      <th>LogisticReg</th>\n",
       "      <th>KNN</th>\n",
       "      <th>DecisionTree</th>\n",
       "    </tr>\n",
       "  </thead>\n",
       "  <tbody>\n",
       "    <tr>\n",
       "      <th>Accuracy</th>\n",
       "      <td>0.937652</td>\n",
       "      <td>0.992212</td>\n",
       "      <td>0.998334</td>\n",
       "    </tr>\n",
       "    <tr>\n",
       "      <th>Precision</th>\n",
       "      <td>0.020015</td>\n",
       "      <td>0.123063</td>\n",
       "      <td>0.425466</td>\n",
       "    </tr>\n",
       "    <tr>\n",
       "      <th>Recall</th>\n",
       "      <td>0.987805</td>\n",
       "      <td>0.823171</td>\n",
       "      <td>0.835366</td>\n",
       "    </tr>\n",
       "    <tr>\n",
       "      <th>F1-Score</th>\n",
       "      <td>0.039235</td>\n",
       "      <td>0.214116</td>\n",
       "      <td>0.563786</td>\n",
       "    </tr>\n",
       "  </tbody>\n",
       "</table>\n",
       "</div>"
      ],
      "text/plain": [
       "           LogisticReg       KNN  DecisionTree\n",
       "Accuracy      0.937652  0.992212      0.998334\n",
       "Precision     0.020015  0.123063      0.425466\n",
       "Recall        0.987805  0.823171      0.835366\n",
       "F1-Score      0.039235  0.214116      0.563786"
      ]
     },
     "execution_count": 223,
     "metadata": {},
     "output_type": "execute_result"
    }
   ],
   "source": [
    "eva_met_base = {\n",
    "    \"LogisticReg\": [acc_logreg_base,precision_logreg_base,recall_logreg_base,f1_logreg_base],\n",
    "    \"KNN\": [acc_KNN_base, precision_KNN_base, recall_KNN_base, f1_KNN_base],\n",
    "    \"DecisionTree\": [acc_DT_base, precision_DT_base, recall_DT_base, f1_DT_base] }\n",
    "\n",
    "eva_base = pd.DataFrame(data = eva_met_base, index = ['Accuracy', 'Precision', 'Recall', 'F1-Score'])\n",
    "eva_base\n",
    "\n",
    "\n",
    "# we can see that using base model that precision has the highest recall score, it only has 2 false negative"
   ]
  },
  {
   "cell_type": "markdown",
   "metadata": {},
   "source": [
    "### Scalling"
   ]
  },
  {
   "cell_type": "code",
   "execution_count": 224,
   "metadata": {},
   "outputs": [],
   "source": [
    "from sklearn.preprocessing import RobustScaler"
   ]
  },
  {
   "cell_type": "code",
   "execution_count": 226,
   "metadata": {},
   "outputs": [],
   "source": [
    "## saclling \n",
    "\n",
    "robust_scaler = RobustScaler()\n",
    "X_train_scaled = robust_scaler.fit_transform(X_train_sm)\n",
    "X_test_scaled = robust_scaler.fit_transform(X_test)"
   ]
  },
  {
   "cell_type": "markdown",
   "metadata": {},
   "source": [
    "### KNN Scaled"
   ]
  },
  {
   "cell_type": "code",
   "execution_count": 235,
   "metadata": {},
   "outputs": [],
   "source": [
    "KNN_scaled = KNeighborsClassifier()\n",
    "KNN_scaled.fit(X_train_scaled, y_train_sm)\n",
    "y_pred_KNN_scaled = KNN_scaled.predict(X_test_scaled)\n",
    "y_pred_KNN_scaled_train = KNN_scaled.predict(X_train_scaled)"
   ]
  },
  {
   "cell_type": "code",
   "execution_count": 236,
   "metadata": {},
   "outputs": [
    {
     "name": "stdout",
     "output_type": "stream",
     "text": [
      "train recall: 0.9929143585547022\n",
      "test recall: 0.9207317073170732\n"
     ]
    }
   ],
   "source": [
    "recall_KNN_scaled = recall_score(y_test, y_pred_KNN_scaled)\n",
    "acc_KNN_scaled = accuracy_score(y_test, y_pred_KNN_scaled)\n",
    "precision_KNN_scaled = precision_score(y_test, y_pred_KNN_scaled)\n",
    "f1_KNN_scaled = f1_score(y_test, y_pred_KNN_scaled)\n",
    "recall_KNN_scaled_train = recall_score(y_train_sm, y_pred_KNN_scaled_train)\n",
    "\n",
    "print(f\"train recall: {recall_KNN_scaled_train}\")\n",
    "print(f\"test recall: {recall_KNN_scaled}\")"
   ]
  },
  {
   "cell_type": "code",
   "execution_count": 238,
   "metadata": {},
   "outputs": [
    {
     "name": "stdout",
     "output_type": "stream",
     "text": [
      "              precision    recall  f1-score   support\n",
      "\n",
      "           0       1.00      0.60      0.75    127089\n",
      "           1       0.00      0.92      0.01       164\n",
      "\n",
      "    accuracy                           0.60    127253\n",
      "   macro avg       0.50      0.76      0.38    127253\n",
      "weighted avg       1.00      0.60      0.75    127253\n",
      "\n"
     ]
    }
   ],
   "source": [
    "print(classification_report(y_test, y_pred_KNN_scaled))"
   ]
  },
  {
   "cell_type": "code",
   "execution_count": 239,
   "metadata": {},
   "outputs": [
    {
     "data": {
      "text/html": [
       "<div>\n",
       "<style scoped>\n",
       "    .dataframe tbody tr th:only-of-type {\n",
       "        vertical-align: middle;\n",
       "    }\n",
       "\n",
       "    .dataframe tbody tr th {\n",
       "        vertical-align: top;\n",
       "    }\n",
       "\n",
       "    .dataframe thead th {\n",
       "        text-align: right;\n",
       "    }\n",
       "</style>\n",
       "<table border=\"1\" class=\"dataframe\">\n",
       "  <thead>\n",
       "    <tr style=\"text-align: right;\">\n",
       "      <th></th>\n",
       "      <th>Prediksi 1</th>\n",
       "      <th>Prediksi 0</th>\n",
       "    </tr>\n",
       "  </thead>\n",
       "  <tbody>\n",
       "    <tr>\n",
       "      <th>aktual 1</th>\n",
       "      <td>151</td>\n",
       "      <td>13</td>\n",
       "    </tr>\n",
       "    <tr>\n",
       "      <th>aktual 0</th>\n",
       "      <td>50889</td>\n",
       "      <td>76200</td>\n",
       "    </tr>\n",
       "  </tbody>\n",
       "</table>\n",
       "</div>"
      ],
      "text/plain": [
       "          Prediksi 1  Prediksi 0\n",
       "aktual 1         151          13\n",
       "aktual 0       50889       76200"
      ]
     },
     "execution_count": 239,
     "metadata": {},
     "output_type": "execute_result"
    }
   ],
   "source": [
    "cm_KNN_scaled = confusion_matrix(y_test, y_pred_KNN_scaled, labels = [1,0])\n",
    "df_KNN_scaled = pd.DataFrame(data = cm_KNN_scaled, index = ['aktual 1', 'aktual 0'], columns = ['Prediksi 1', 'Prediksi 0'])\n",
    "df_KNN_scaled\n"
   ]
  },
  {
   "cell_type": "code",
   "execution_count": 240,
   "metadata": {},
   "outputs": [
    {
     "data": {
      "text/plain": [
       "<matplotlib.axes._subplots.AxesSubplot at 0x172397993d0>"
      ]
     },
     "execution_count": 240,
     "metadata": {},
     "output_type": "execute_result"
    },
    {
     "data": {
      "image/png": "[encoded data removed]",
      "text/plain": [
       "<Figure size 432x288 with 2 Axes>"
      ]
     },
     "metadata": {
      "needs_background": "light"
     },
     "output_type": "display_data"
    }
   ],
   "source": [
    "sns.heatmap(df_KNN_scaled, annot = True)"
   ]
  },
  {
   "cell_type": "markdown",
   "metadata": {},
   "source": [
    "### Logreg Scaled"
   ]
  },
  {
   "cell_type": "code",
   "execution_count": 229,
   "metadata": {},
   "outputs": [],
   "source": [
    "logreg_scaled =LogisticRegression()\n",
    "logreg_scaled.fit(X_train_scaled, y_train_sm)\n",
    "y_pred_logreg_scaled = logreg_scaled.predict(X_test_scaled)\n",
    "y_pred_logreg_scaled_train = logreg_scaled.predict(X_train_scaled)"
   ]
  },
  {
   "cell_type": "code",
   "execution_count": 230,
   "metadata": {},
   "outputs": [
    {
     "name": "stdout",
     "output_type": "stream",
     "text": [
      "train recall: 0.7039334949011709\n",
      "test recall: 0.9024390243902439\n"
     ]
    }
   ],
   "source": [
    "recall_logreg_scaled = recall_score(y_test, y_pred_logreg_scaled)\n",
    "acc_logreg_scaled = accuracy_score(y_test, y_pred_logreg_scaled)\n",
    "precision_logreg_scaled = precision_score(y_test, y_pred_logreg_scaled)\n",
    "f1_logreg_scaled = f1_score(y_test, y_pred_logreg_scaled)\n",
    "recall_logreg_scaled_train = recall_score(y_train_sm, y_pred_logreg_scaled_train)\n",
    "\n",
    "print(f\"train recall: {recall_logreg_scaled_train}\")\n",
    "print(f\"test recall: {recall_logreg_scaled}\")"
   ]
  },
  {
   "cell_type": "code",
   "execution_count": 231,
   "metadata": {},
   "outputs": [
    {
     "name": "stdout",
     "output_type": "stream",
     "text": [
      "              precision    recall  f1-score   support\n",
      "\n",
      "           0       1.00      0.73      0.84    127089\n",
      "           1       0.00      0.90      0.01       164\n",
      "\n",
      "    accuracy                           0.73    127253\n",
      "   macro avg       0.50      0.82      0.43    127253\n",
      "weighted avg       1.00      0.73      0.84    127253\n",
      "\n"
     ]
    }
   ],
   "source": [
    "print(classification_report(y_test, y_pred_logreg_scaled))"
   ]
  },
  {
   "cell_type": "code",
   "execution_count": 233,
   "metadata": {},
   "outputs": [
    {
     "data": {
      "text/html": [
       "<div>\n",
       "<style scoped>\n",
       "    .dataframe tbody tr th:only-of-type {\n",
       "        vertical-align: middle;\n",
       "    }\n",
       "\n",
       "    .dataframe tbody tr th {\n",
       "        vertical-align: top;\n",
       "    }\n",
       "\n",
       "    .dataframe thead th {\n",
       "        text-align: right;\n",
       "    }\n",
       "</style>\n",
       "<table border=\"1\" class=\"dataframe\">\n",
       "  <thead>\n",
       "    <tr style=\"text-align: right;\">\n",
       "      <th></th>\n",
       "      <th>Prediksi 1</th>\n",
       "      <th>Prediksi 0</th>\n",
       "    </tr>\n",
       "  </thead>\n",
       "  <tbody>\n",
       "    <tr>\n",
       "      <th>aktual 1</th>\n",
       "      <td>148</td>\n",
       "      <td>16</td>\n",
       "    </tr>\n",
       "    <tr>\n",
       "      <th>aktual 0</th>\n",
       "      <td>34513</td>\n",
       "      <td>92576</td>\n",
       "    </tr>\n",
       "  </tbody>\n",
       "</table>\n",
       "</div>"
      ],
      "text/plain": [
       "          Prediksi 1  Prediksi 0\n",
       "aktual 1         148          16\n",
       "aktual 0       34513       92576"
      ]
     },
     "execution_count": 233,
     "metadata": {},
     "output_type": "execute_result"
    }
   ],
   "source": [
    "cm_logreg_scaled = confusion_matrix(y_test, y_pred_logreg_scaled, labels = [1,0])\n",
    "df_logreg_scaled = pd.DataFrame(data = cm_logreg_scaled, index = ['aktual 1', 'aktual 0'], columns = ['Prediksi 1', 'Prediksi 0'])\n",
    "df_logreg_scaled\n",
    "\n",
    "# the recall score is worse after scalling compared to before scalling "
   ]
  },
  {
   "cell_type": "code",
   "execution_count": 234,
   "metadata": {},
   "outputs": [
    {
     "data": {
      "text/plain": [
       "<matplotlib.axes._subplots.AxesSubplot at 0x17239727820>"
      ]
     },
     "execution_count": 234,
     "metadata": {},
     "output_type": "execute_result"
    },
    {
     "data": {
      "image/png": "[encoded data removed]",
      "text/plain": [
       "<Figure size 432x288 with 2 Axes>"
      ]
     },
     "metadata": {
      "needs_background": "light"
     },
     "output_type": "display_data"
    }
   ],
   "source": [
    "sns.heatmap(df_logreg_scaled, annot = True)"
   ]
  },
  {
   "cell_type": "code",
   "execution_count": 241,
   "metadata": {},
   "outputs": [
    {
     "data": {
      "text/html": [
       "<div>\n",
       "<style scoped>\n",
       "    .dataframe tbody tr th:only-of-type {\n",
       "        vertical-align: middle;\n",
       "    }\n",
       "\n",
       "    .dataframe tbody tr th {\n",
       "        vertical-align: top;\n",
       "    }\n",
       "\n",
       "    .dataframe thead th {\n",
       "        text-align: right;\n",
       "    }\n",
       "</style>\n",
       "<table border=\"1\" class=\"dataframe\">\n",
       "  <thead>\n",
       "    <tr style=\"text-align: right;\">\n",
       "      <th></th>\n",
       "      <th>LogisticReg</th>\n",
       "      <th>KNN</th>\n",
       "    </tr>\n",
       "  </thead>\n",
       "  <tbody>\n",
       "    <tr>\n",
       "      <th>Accuracy</th>\n",
       "      <td>0.728659</td>\n",
       "      <td>0.599994</td>\n",
       "    </tr>\n",
       "    <tr>\n",
       "      <th>Precision</th>\n",
       "      <td>0.004270</td>\n",
       "      <td>0.002958</td>\n",
       "    </tr>\n",
       "    <tr>\n",
       "      <th>Recall</th>\n",
       "      <td>0.902439</td>\n",
       "      <td>0.920732</td>\n",
       "    </tr>\n",
       "    <tr>\n",
       "      <th>F1-Score</th>\n",
       "      <td>0.008500</td>\n",
       "      <td>0.005898</td>\n",
       "    </tr>\n",
       "  </tbody>\n",
       "</table>\n",
       "</div>"
      ],
      "text/plain": [
       "           LogisticReg       KNN\n",
       "Accuracy      0.728659  0.599994\n",
       "Precision     0.004270  0.002958\n",
       "Recall        0.902439  0.920732\n",
       "F1-Score      0.008500  0.005898"
      ]
     },
     "execution_count": 241,
     "metadata": {},
     "output_type": "execute_result"
    }
   ],
   "source": [
    "eva_met_scaled = {\n",
    "    \"LogisticReg\": [acc_logreg_scaled,precision_logreg_scaled,recall_logreg_scaled,f1_logreg_scaled],\n",
    "    \"KNN\": [acc_KNN_scaled, precision_KNN_scaled, recall_KNN_scaled, f1_KNN_scaled] }\n",
    "\n",
    "eva_scaled = pd.DataFrame(data = eva_met_scaled, index = ['Accuracy', 'Precision', 'Recall', 'F1-Score'])\n",
    "eva_scaled"
   ]
  },
  {
   "cell_type": "code",
   "execution_count": 242,
   "metadata": {},
   "outputs": [],
   "source": [
    "from IPython.core.display import display, HTML\n",
    "\n",
    "def display_side_by_side(dfs:list, captions:list):\n",
    "    \"\"\"Display tables side by side to save vertical space\n",
    "    Input:\n",
    "        dfs: list of pandas.DataFrame\n",
    "        captions: list of table captions\n",
    "    \"\"\"\n",
    "    output = \"\"\n",
    "    combined = dict(zip(captions, dfs))\n",
    "    for caption, df in combined.items():\n",
    "        output += df.style.set_table_attributes(\"style='display:inline'\").set_caption(caption)._repr_html_()\n",
    "        output += \"\\xa0\\xa0\\xa0\"\n",
    "    display(HTML(output))"
   ]
  },
  {
   "cell_type": "code",
   "execution_count": 244,
   "metadata": {},
   "outputs": [
    {
     "data": {
      "text/html": [
       "<style  type=\"text/css\" >\n",
       "</style><table id=\"T_a09d0597_1cdf_11eb_9646_e86f38544a42\" style='display:inline'><caption>Base</caption><thead>    <tr>        <th class=\"blank level0\" ></th>        <th class=\"col_heading level0 col0\" >LogisticReg</th>        <th class=\"col_heading level0 col1\" >KNN</th>        <th class=\"col_heading level0 col2\" >DecisionTree</th>    </tr></thead><tbody>\n",
       "                <tr>\n",
       "                        <th id=\"T_a09d0597_1cdf_11eb_9646_e86f38544a42level0_row0\" class=\"row_heading level0 row0\" >Accuracy</th>\n",
       "                        <td id=\"T_a09d0597_1cdf_11eb_9646_e86f38544a42row0_col0\" class=\"data row0 col0\" >0.937652</td>\n",
       "                        <td id=\"T_a09d0597_1cdf_11eb_9646_e86f38544a42row0_col1\" class=\"data row0 col1\" >0.992212</td>\n",
       "                        <td id=\"T_a09d0597_1cdf_11eb_9646_e86f38544a42row0_col2\" class=\"data row0 col2\" >0.998334</td>\n",
       "            </tr>\n",
       "            <tr>\n",
       "                        <th id=\"T_a09d0597_1cdf_11eb_9646_e86f38544a42level0_row1\" class=\"row_heading level0 row1\" >Precision</th>\n",
       "                        <td id=\"T_a09d0597_1cdf_11eb_9646_e86f38544a42row1_col0\" class=\"data row1 col0\" >0.020015</td>\n",
       "                        <td id=\"T_a09d0597_1cdf_11eb_9646_e86f38544a42row1_col1\" class=\"data row1 col1\" >0.123063</td>\n",
       "                        <td id=\"T_a09d0597_1cdf_11eb_9646_e86f38544a42row1_col2\" class=\"data row1 col2\" >0.425466</td>\n",
       "            </tr>\n",
       "            <tr>\n",
       "                        <th id=\"T_a09d0597_1cdf_11eb_9646_e86f38544a42level0_row2\" class=\"row_heading level0 row2\" >Recall</th>\n",
       "                        <td id=\"T_a09d0597_1cdf_11eb_9646_e86f38544a42row2_col0\" class=\"data row2 col0\" >0.987805</td>\n",
       "                        <td id=\"T_a09d0597_1cdf_11eb_9646_e86f38544a42row2_col1\" class=\"data row2 col1\" >0.823171</td>\n",
       "                        <td id=\"T_a09d0597_1cdf_11eb_9646_e86f38544a42row2_col2\" class=\"data row2 col2\" >0.835366</td>\n",
       "            </tr>\n",
       "            <tr>\n",
       "                        <th id=\"T_a09d0597_1cdf_11eb_9646_e86f38544a42level0_row3\" class=\"row_heading level0 row3\" >F1-Score</th>\n",
       "                        <td id=\"T_a09d0597_1cdf_11eb_9646_e86f38544a42row3_col0\" class=\"data row3 col0\" >0.039235</td>\n",
       "                        <td id=\"T_a09d0597_1cdf_11eb_9646_e86f38544a42row3_col1\" class=\"data row3 col1\" >0.214116</td>\n",
       "                        <td id=\"T_a09d0597_1cdf_11eb_9646_e86f38544a42row3_col2\" class=\"data row3 col2\" >0.563786</td>\n",
       "            </tr>\n",
       "    </tbody></table>   <style  type=\"text/css\" >\n",
       "</style><table id=\"T_a09d2c9d_1cdf_11eb_b27a_e86f38544a42\" style='display:inline'><caption>Scaled</caption><thead>    <tr>        <th class=\"blank level0\" ></th>        <th class=\"col_heading level0 col0\" >LogisticReg</th>        <th class=\"col_heading level0 col1\" >KNN</th>    </tr></thead><tbody>\n",
       "                <tr>\n",
       "                        <th id=\"T_a09d2c9d_1cdf_11eb_b27a_e86f38544a42level0_row0\" class=\"row_heading level0 row0\" >Accuracy</th>\n",
       "                        <td id=\"T_a09d2c9d_1cdf_11eb_b27a_e86f38544a42row0_col0\" class=\"data row0 col0\" >0.728659</td>\n",
       "                        <td id=\"T_a09d2c9d_1cdf_11eb_b27a_e86f38544a42row0_col1\" class=\"data row0 col1\" >0.599994</td>\n",
       "            </tr>\n",
       "            <tr>\n",
       "                        <th id=\"T_a09d2c9d_1cdf_11eb_b27a_e86f38544a42level0_row1\" class=\"row_heading level0 row1\" >Precision</th>\n",
       "                        <td id=\"T_a09d2c9d_1cdf_11eb_b27a_e86f38544a42row1_col0\" class=\"data row1 col0\" >0.004270</td>\n",
       "                        <td id=\"T_a09d2c9d_1cdf_11eb_b27a_e86f38544a42row1_col1\" class=\"data row1 col1\" >0.002958</td>\n",
       "            </tr>\n",
       "            <tr>\n",
       "                        <th id=\"T_a09d2c9d_1cdf_11eb_b27a_e86f38544a42level0_row2\" class=\"row_heading level0 row2\" >Recall</th>\n",
       "                        <td id=\"T_a09d2c9d_1cdf_11eb_b27a_e86f38544a42row2_col0\" class=\"data row2 col0\" >0.902439</td>\n",
       "                        <td id=\"T_a09d2c9d_1cdf_11eb_b27a_e86f38544a42row2_col1\" class=\"data row2 col1\" >0.920732</td>\n",
       "            </tr>\n",
       "            <tr>\n",
       "                        <th id=\"T_a09d2c9d_1cdf_11eb_b27a_e86f38544a42level0_row3\" class=\"row_heading level0 row3\" >F1-Score</th>\n",
       "                        <td id=\"T_a09d2c9d_1cdf_11eb_b27a_e86f38544a42row3_col0\" class=\"data row3 col0\" >0.008500</td>\n",
       "                        <td id=\"T_a09d2c9d_1cdf_11eb_b27a_e86f38544a42row3_col1\" class=\"data row3 col1\" >0.005898</td>\n",
       "            </tr>\n",
       "    </tbody></table>   "
      ],
      "text/plain": [
       "<IPython.core.display.HTML object>"
      ]
     },
     "metadata": {},
     "output_type": "display_data"
    }
   ],
   "source": [
    "display_side_by_side([eva_base, eva_scaled], ['Base', 'Scaled'])\n",
    "\n",
    "# we can see from the table below that non scaled logistic regression has the best recall score compared to any model"
   ]
  },
  {
   "cell_type": "markdown",
   "metadata": {},
   "source": [
    "### Hyperparameter Tuning\n",
    "\n",
    "#### logistic Regression"
   ]
  },
  {
   "cell_type": "code",
   "execution_count": 246,
   "metadata": {},
   "outputs": [
    {
     "name": "stdout",
     "output_type": "stream",
     "text": [
      "Fitting 5 folds for each of 15 candidates, totalling 75 fits\n"
     ]
    },
    {
     "name": "stderr",
     "output_type": "stream",
     "text": [
      "[Parallel(n_jobs=-1)]: Using backend LokyBackend with 8 concurrent workers.\n",
      "[Parallel(n_jobs=-1)]: Done  34 tasks      | elapsed:   38.8s\n",
      "[Parallel(n_jobs=-1)]: Done  75 out of  75 | elapsed:  1.4min finished\n"
     ]
    },
    {
     "data": {
      "text/plain": [
       "GridSearchCV(cv=5, estimator=LogisticRegression(), n_jobs=-1,\n",
       "             param_grid={'C': [1, 0.5, 0.1, 5, 9],\n",
       "                         'penalty': ['l2', 'l1', 'elasticnet']},\n",
       "             scoring='recall', verbose=1)"
      ]
     },
     "execution_count": 246,
     "metadata": {},
     "output_type": "execute_result"
    }
   ],
   "source": [
    "logreg_tuning = LogisticRegression()\n",
    "param_logreg = {'C': [1, 0.5, 0.1, 5, 9],\n",
    "               'penalty':['l2','l1', 'elasticnet']}\n",
    "\n",
    "model_logreg_tuned = GridSearchCV(estimator = logreg_tuning_base, param_grid = param_logreg_base, cv = 5, n_jobs = -1 , verbose = 1, scoring = 'recall')\n",
    "model_logreg_tuned.fit(X_train_sm, y_train_sm)"
   ]
  },
  {
   "cell_type": "code",
   "execution_count": 248,
   "metadata": {},
   "outputs": [
    {
     "name": "stdout",
     "output_type": "stream",
     "text": [
      "train recall: 0.9903924839481304\n",
      "test recall: 0.9878048780487805\n"
     ]
    }
   ],
   "source": [
    "logreg_tuned = model_logreg_tuned.best_estimator_\n",
    "y_pred_logreg_tuned = logreg_tuned.predict(X_test)\n",
    "y_pred_logreg_train_tuned = logreg_tuned.predict(X_train_sm)\n",
    "\n",
    "recall_logreg_tuned = recall_score(y_test, y_pred_logreg_tuned)\n",
    "acc_logreg_tuned = accuracy_score(y_test, y_pred_logreg_tuned)\n",
    "precision_logreg_tuned = precision_score(y_test, y_pred_logreg_tuned)\n",
    "f1_logreg_tuned = f1_score(y_test, y_pred_logreg_tuned)\n",
    "recall_logreg_train_tuned = recall_score(y_train_sm, y_pred_logreg_train_tuned)\n",
    "\n",
    "print(f\"train recall: {recall_logreg_train_tuned}\")\n",
    "print(f\"test recall: {recall_logreg_tuned}\")\n",
    "\n",
    "# it seems the score doesnt change any difference for logistic regression after hyper parameter tuning"
   ]
  },
  {
   "cell_type": "code",
   "execution_count": 249,
   "metadata": {},
   "outputs": [
    {
     "name": "stdout",
     "output_type": "stream",
     "text": [
      "              precision    recall  f1-score   support\n",
      "\n",
      "           0       1.00      0.94      0.97    127089\n",
      "           1       0.02      0.99      0.04       164\n",
      "\n",
      "    accuracy                           0.94    127253\n",
      "   macro avg       0.51      0.96      0.50    127253\n",
      "weighted avg       1.00      0.94      0.97    127253\n",
      "\n"
     ]
    }
   ],
   "source": [
    "print(classification_report(y_test, y_pred_logreg_tuned))"
   ]
  },
  {
   "cell_type": "code",
   "execution_count": 252,
   "metadata": {},
   "outputs": [
    {
     "data": {
      "text/html": [
       "<style  type=\"text/css\" >\n",
       "</style><table id=\"T_014d0ec1_1ce2_11eb_9199_e86f38544a42\" style='display:inline'><caption>Tuned</caption><thead>    <tr>        <th class=\"blank level0\" ></th>        <th class=\"col_heading level0 col0\" >Prediksi 1</th>        <th class=\"col_heading level0 col1\" >Prediksi 0</th>    </tr></thead><tbody>\n",
       "                <tr>\n",
       "                        <th id=\"T_014d0ec1_1ce2_11eb_9199_e86f38544a42level0_row0\" class=\"row_heading level0 row0\" >aktual 1</th>\n",
       "                        <td id=\"T_014d0ec1_1ce2_11eb_9199_e86f38544a42row0_col0\" class=\"data row0 col0\" >162</td>\n",
       "                        <td id=\"T_014d0ec1_1ce2_11eb_9199_e86f38544a42row0_col1\" class=\"data row0 col1\" >2</td>\n",
       "            </tr>\n",
       "            <tr>\n",
       "                        <th id=\"T_014d0ec1_1ce2_11eb_9199_e86f38544a42level0_row1\" class=\"row_heading level0 row1\" >aktual 0</th>\n",
       "                        <td id=\"T_014d0ec1_1ce2_11eb_9199_e86f38544a42row1_col0\" class=\"data row1 col0\" >7932</td>\n",
       "                        <td id=\"T_014d0ec1_1ce2_11eb_9199_e86f38544a42row1_col1\" class=\"data row1 col1\" >119157</td>\n",
       "            </tr>\n",
       "    </tbody></table>   <style  type=\"text/css\" >\n",
       "</style><table id=\"T_014d839a_1ce2_11eb_b908_e86f38544a42\" style='display:inline'><caption>Base</caption><thead>    <tr>        <th class=\"blank level0\" ></th>        <th class=\"col_heading level0 col0\" >Prediksi 1</th>        <th class=\"col_heading level0 col1\" >Prediksi 0</th>    </tr></thead><tbody>\n",
       "                <tr>\n",
       "                        <th id=\"T_014d839a_1ce2_11eb_b908_e86f38544a42level0_row0\" class=\"row_heading level0 row0\" >aktual 1</th>\n",
       "                        <td id=\"T_014d839a_1ce2_11eb_b908_e86f38544a42row0_col0\" class=\"data row0 col0\" >162</td>\n",
       "                        <td id=\"T_014d839a_1ce2_11eb_b908_e86f38544a42row0_col1\" class=\"data row0 col1\" >2</td>\n",
       "            </tr>\n",
       "            <tr>\n",
       "                        <th id=\"T_014d839a_1ce2_11eb_b908_e86f38544a42level0_row1\" class=\"row_heading level0 row1\" >aktual 0</th>\n",
       "                        <td id=\"T_014d839a_1ce2_11eb_b908_e86f38544a42row1_col0\" class=\"data row1 col0\" >7932</td>\n",
       "                        <td id=\"T_014d839a_1ce2_11eb_b908_e86f38544a42row1_col1\" class=\"data row1 col1\" >119157</td>\n",
       "            </tr>\n",
       "    </tbody></table>   "
      ],
      "text/plain": [
       "<IPython.core.display.HTML object>"
      ]
     },
     "metadata": {},
     "output_type": "display_data"
    }
   ],
   "source": [
    "cm_logreg_tuned = confusion_matrix(y_test, y_pred_logreg_tuned, labels = [1,0])\n",
    "df_logreg_tuned = pd.DataFrame(data = cm_logreg_tuned, index = ['aktual 1', 'aktual 0'], columns = ['Prediksi 1', 'Prediksi 0'])\n",
    "display_side_by_side([df_logreg_tuned, df_logreg_base], ['Tuned', 'Base'])\n",
    "\n",
    "# side by side comparison after hyper parameter tuning and before hyper parameter tuning, there's no difference before or after\n",
    "# the hyper parameter tuning for logistic regression model"
   ]
  },
  {
   "cell_type": "code",
   "execution_count": 251,
   "metadata": {},
   "outputs": [
    {
     "data": {
      "text/plain": [
       "<matplotlib.axes._subplots.AxesSubplot at 0x1723b36c7c0>"
      ]
     },
     "execution_count": 251,
     "metadata": {},
     "output_type": "execute_result"
    },
    {
     "data": {
      "image/png": "[encoded data removed]",
      "text/plain": [
       "<Figure size 432x288 with 2 Axes>"
      ]
     },
     "metadata": {
      "needs_background": "light"
     },
     "output_type": "display_data"
    }
   ],
   "source": [
    "sns.heatmap(df_logreg_tuned, annot =True)"
   ]
  },
  {
   "cell_type": "markdown",
   "metadata": {},
   "source": [
    "## Machine Learning Conclution, & Future Improvement\n",
    "\n",
    "\n",
    "### Conclution\n",
    "\n",
    "- **Logistic Regression has the best recall score among all algorithm that we tried in this notebook**\n",
    "    - Among all the algorithm in this notebook that we tried (Logistic Regression, KNN, and Decision Tree) Logistic regression has the best recall score **(98.7%)**\n",
    "    \n",
    "\n",
    "- **Scalling doesn't effect much on Logistic Regression for this case**\n",
    "    - This dataset has a big range, for certain coulumns, like step compared to all the balance columns, and usually how we tackle this is using scalling, however after scalling process our evaluation matrix did not get any better **(For Logistic Regression Case)**, for KNN it seems to improve the evaluation matrix of the algorithm\n",
    "    \n",
    "\n",
    "### Future Improvement\n",
    "\n",
    "- **Use The Entire Population for machine learning process** \n",
    "\n",
    "For this machine learning process this notebook used a stratifed sampled data from the fraud and non fraud group, this notebook only contain 10% of data out of the entire population, for future improvement, for machine learning process we could use an entire dataset for machine learning process, as we know the more the data the better the model is\n",
    "\n",
    "\n",
    "- **Tryout Different Algorithm**\n",
    "\n",
    "\n",
    "for this machine learning process this notebook use 3 different kind of algorithm (*Logistic Regression*, *KNeighborClassifier*, and *DecisionTreeClassifier*), in the future we could use different kind of classification and compared with the 3 algorithm that we use\n",
    "\n",
    "\n",
    "- **Hyperparameter Tuning For all algorithm**\n",
    "\n",
    "\n",
    "due to the computational power of local laptop, this notebook only have 1 hyperparameter tuning which is *Logistic Regression*, for future imporovement we could do hyperparameter tuning in all algortihm"
   ]
  },
  {
   "cell_type": "code",
   "execution_count": null,
   "metadata": {},
   "outputs": [],
   "source": []
  }
 ],
 "metadata": {
  "kernelspec": {
   "display_name": "Python 3",
   "language": "python",
   "name": "python3"
  },
  "language_info": {
   "codemirror_mode": {
    "name": "ipython",
    "version": 3
   },
   "file_extension": ".py",
   "mimetype": "text/x-python",
   "name": "python",
   "nbconvert_exporter": "python",
   "pygments_lexer": "ipython3",
   "version": "3.8.3"
  }
 },
 "nbformat": 4,
 "nbformat_minor": 4
}
